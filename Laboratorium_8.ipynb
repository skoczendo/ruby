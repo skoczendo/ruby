{
 "metadata": {
  "language": "ruby",
  "name": "",
  "signature": "sha256:33ac34752192e9d3f612eade3b7c39c2bbfe8eca2bc4946d971f8b6e7a419c0a"
 },
 "nbformat": 3,
 "nbformat_minor": 0,
 "worksheets": [
  {
   "cells": [
    {
     "cell_type": "heading",
     "level": 1,
     "metadata": {},
     "source": [
      "Zapytania z\u0142o\u017cone"
     ]
    },
    {
     "cell_type": "markdown",
     "metadata": {},
     "source": [
      "Przed rozpocz\u0119ciem pracy konieczne jest skonfigurowanie bazy oraz za\u0142adowanie danych:\n",
      "```ruby\n",
      "$:.unshift \".\"\n",
      "require 'db_setup'\n",
      "require 'db_load'\n",
      "```"
     ]
    },
    {
     "cell_type": "code",
     "collapsed": false,
     "input": [
      "$:.unshift \".\"\n",
      "require 'db_setup'\n",
      "require 'db_load'"
     ],
     "language": "python",
     "metadata": {},
     "outputs": [
      {
       "output_type": "stream",
       "stream": "stdout",
       "text": [
        "==  AddIndicesMigration: migrating ============================================\n"
       ]
      },
      {
       "output_type": "stream",
       "stream": "stdout",
       "text": [
        "==  AddIndicesMigration: migrated (0.0000s) ===================================\n"
       ]
      },
      {
       "output_type": "stream",
       "stream": "stdout",
       "text": [
        "\n"
       ]
      },
      {
       "metadata": {},
       "output_type": "pyout",
       "prompt_number": 2,
       "text": [
        "true"
       ]
      }
     ],
     "prompt_number": 2
    },
    {
     "cell_type": "markdown",
     "metadata": {},
     "source": [
      "W dalszych zadaniach b\u0119dzie wykonywa\u0107 polecenia korzystaj\u0105c z nast\u0119puj\u0105cych klas, zmapowanych na odpowiadaj\u0105ce im \n",
      "table w bazie danych:\n",
      "```ruby\n",
      "class Author < ActiveRecord::Base\n",
      "  # name      (string)\n",
      "  # surname   (string)\n",
      "  # born      (datetime) \n",
      "  # died      (datetime)\n",
      "  # image_url (string)\n",
      "  \n",
      "  has_many :books\n",
      "end\n",
      "\n",
      "class Book < ActiveRecord::Base\n",
      "  # title     (string)\n",
      "  # author    (Author)\n",
      "  # published (integer)\n",
      "\n",
      "  belongs_to :author\n",
      "end\n",
      "```"
     ]
    },
    {
     "cell_type": "markdown",
     "metadata": {},
     "source": [
      "ActiveRecord udost\u0119pnia interfejs pozwalaj\u0105cy wyszukiwa\u0107 dane w bazie r\u00f3wnie\u017c z wykorzystaniem zwi\u0105zk\u00f3w zdefiniowanych pomi\u0119dzy\n",
      "klasami. Do definiowania tych zwi\u0105zk\u00f3w s\u0142u\u017c\u0105 polecenia `has_many`, `belongs_to`, `has_one` oraz `has_and_belongs_to_many`.\n",
      "Przyk\u0142adowo je\u015bli chcemy dowiedzie\u0107 si\u0119 kto by\u0142 autorem pierwszej ksi\u0105\u017cki wykonujemy zapytanie:\n",
      "```ruby\n",
      "book = Book.first\n",
      "puts book.title\n",
      "puts book.author\n",
      "```"
     ]
    },
    {
     "cell_type": "code",
     "collapsed": false,
     "input": [
      "book = Book.first\n",
      "puts book.title\n",
      "puts book.author"
     ],
     "language": "python",
     "metadata": {},
     "outputs": [
      {
       "output_type": "stream",
       "stream": "stdout",
       "text": [
        "V\u00e9gj\u00e1t\u00e9k (reg\u00e9ny)\n"
       ]
      },
      {
       "output_type": "stream",
       "stream": "stdout",
       "text": [
        "#<Author:0x0000000359e9c8>\n"
       ]
      }
     ],
     "prompt_number": 2
    },
    {
     "cell_type": "markdown",
     "metadata": {},
     "source": [
      "Niestety prezentowany wynik nie jest zbyt u\u017cyteczny. Poniewa\u017c jednak metoda `author` zwraca obiekt, mo\u017cemy na nim wywo\u0142ywa\u0107 \n",
      "metody - tak samo jak w przypadku autora za\u0142adowanego bezpo\u015brednio z wykorzystaniem metod zdefiniowanych dla klasy `Author`\n",
      "```ruby\n",
      "book = Book.first\n",
      "puts book.title\n",
      "puts \"#{book.author.name} #{book.author.surname}\"\n",
      "```"
     ]
    },
    {
     "cell_type": "code",
     "collapsed": false,
     "input": [
      "book = Book.first\n",
      "puts book.title\n",
      "puts \"#{book.author.name} #{book.author.surname}\""
     ],
     "language": "python",
     "metadata": {},
     "outputs": [
      {
       "output_type": "stream",
       "stream": "stdout",
       "text": [
        "V\u00e9gj\u00e1t\u00e9k (reg\u00e9ny)\n"
       ]
      },
      {
       "output_type": "stream",
       "stream": "stdout",
       "text": [
        "Orson Scott Card\n"
       ]
      }
     ],
     "prompt_number": 3
    },
    {
     "cell_type": "markdown",
     "metadata": {},
     "source": [
      "Co wi\u0119cej, je\u015bli mamy do czynienia ze zwi\u0105zkiem jeden-do-wiele b\u0105d\u017a wiele-do-wiele, mo\u017cemy wywy\u0142ywa\u0107 wszystkie dotychczas poznane \n",
      "metody na kolekcji powi\u0105zanych obiekt\u00f3w. Istotnie u\u0142atwia to wyszukiwanie potrzebnych danych:\n",
      "```ruby\n",
      "books = Book.where(\"title like 'A%'\")\n",
      "books.each do |book|\n",
      "  puts book.title\n",
      "end\n",
      "\n",
      "author = Author.where(surname: \"To\u0142stoj\").first\n",
      "books = author.books.where(\"title like 'A%'\")\n",
      "books.each do |book|\n",
      "  puts book.title\n",
      "end\n",
      "```"
     ]
    },
    {
     "cell_type": "code",
     "collapsed": false,
     "input": [
      "books = Book.where(\"title like 'A%'\")\n",
      "books.each do |book|\n",
      "  puts book.title\n",
      "end\n",
      "\n",
      "author = Author.where(surname: \"To\u0142stoj\").first\n",
      "books = author.books.where(\"title like 'A%'\")\n",
      "books.each do |book|\n",
      "  puts book.title\n",
      "end"
     ],
     "language": "python",
     "metadata": {},
     "outputs": [
      {
       "output_type": "stream",
       "stream": "stdout",
       "text": [
        "Anna Karenina\n"
       ]
      },
      {
       "output_type": "stream",
       "stream": "stdout",
       "text": [
        "Azazel (powie\u015b\u0107)\n"
       ]
      },
      {
       "output_type": "stream",
       "stream": "stdout",
       "text": [
        "Anna Karenina\n"
       ]
      },
      {
       "metadata": {},
       "output_type": "pyout",
       "prompt_number": 6,
       "text": [
        "[#<Book id: 33, title: \"Anna Karenina\", language: nil, author_id: 34, published: 1877, image_url: \"http://commons.wikimedia.org/wiki/Special:FilePath...\">]"
       ]
      }
     ],
     "prompt_number": 6
    },
    {
     "cell_type": "markdown",
     "metadata": {},
     "source": [
      "R\u00f3\u017cnica pomi\u0119dzy tymi zapytaniami polega na tym, \u017ce w pierwszym przypadku szukamy ksi\u0105\u017cki, kt\u00f3rych tytu\u0142 zaczyna si\u0119 na \"A\" \n",
      "w ca\u0142ym zbiorze ksi\u0105\u017cek, a w drugi przypadku w\u015br\u00f3d ksi\u0105\u017cek napisanych przez To\u0142stoja."
     ]
    },
    {
     "cell_type": "markdown",
     "metadata": {},
     "source": [
      "Aby umo\u017cliwi\u0107 formatowanie wynik\u00f3w zapytania, IRuby udost\u0119pnia metod\u0119 `IRuby.html`, kt\u00f3ra pozwala na wy\u015bwietlanie kodu\n",
      "HTML. Przyk\u0142adowo\n",
      "```ruby\n",
      "IRuby.html \"<h1>Test HTML-a</h1>\"\n",
      "```"
     ]
    },
    {
     "cell_type": "code",
     "collapsed": false,
     "input": [
      "IRuby.html \"<h1>Test HTML-a</h1>\""
     ],
     "language": "python",
     "metadata": {},
     "outputs": [
      {
       "html": [
        "<h1>Test HTML-a</h1>"
       ],
       "metadata": {},
       "output_type": "pyout",
       "prompt_number": 7,
       "text": [
        "\"<h1>Test HTML-a</h1>\""
       ]
      }
     ],
     "prompt_number": 7
    },
    {
     "cell_type": "markdown",
     "metadata": {},
     "source": [
      "Dzi\u0119ki temu b\u0119dziemy mogli formatowa\u0107 wyniki zapyta\u0144, a wszczeg\u00f3lno\u015bci wy\u015bwietla\u0107 obrazy przedstwiaj\u0105ce autor\u00f3w oraz ksi\u0105\u017cki. \n",
      "Nale\u017cy jednak wzi\u0105\u0107 pod uwag\u0119, \u017ce nie wszystkie ksi\u0105\u017cki oraz nie wszyscy autorzy posiadaj\u0105 odpowiadaj\u0105ce im obrazki.\n",
      "Aby wy\u015bwietli\u0107 imi\u0119, nazwisko oraz obraz pierwszego autora piszemy:\n",
      "```ruby\n",
      "author = Author.where(\"image_url is not null\").first\n",
      "IRuby.html \"<h1>#{author.name} #{author.surname}</h1><img src='#{author.image_url}'/>\"\n",
      "```"
     ]
    },
    {
     "cell_type": "code",
     "collapsed": false,
     "input": [
      "author = Author.where(\"image_url is not null\").first\n",
      "IRuby.html \"<h1>#{author.name} #{author.surname}</h1><img src='#{author.image_url}'/>\""
     ],
     "language": "python",
     "metadata": {},
     "outputs": [
      {
       "html": [
        "<h1>Orson Scott Card</h1><img src='http://commons.wikimedia.org/wiki/Special:FilePath/Orson_Scott_Card_at_BYU_Symposium_20080216_closeup.jpg?width=300'/>"
       ],
       "metadata": {},
       "output_type": "pyout",
       "prompt_number": 8,
       "text": [
        "\"<h1>Orson Scott Card</h1><img src='http://commons.wikimedia.org/wiki/Special:FilePath/Orson_Scott_Card_at_BYU_Symposium_20080216_closeup.jpg?width=300'/>\""
       ]
      }
     ],
     "prompt_number": 8
    },
    {
     "cell_type": "markdown",
     "metadata": {},
     "source": [
      "Mo\u017cemy r\u00f3wnie\u017c zdefniowa\u0107 funkcj\u0119, np. `display_author`, kt\u00f3rej zadaniem b\u0119dzie wy\u015bwietlenie autora w tej postaci. \n",
      "Jedyny problem polega na tym, \u017ce funkcja `IRuby.html` mo\u017ce by\u0107 wywo\u0142ywana tylko raz. Dlatego je\u015bli chcemy wy\u015bwietli\u0107 kilku autor\u00f3w,\n",
      "musimy po\u0142\u0105czy\u0107 odpowiadaj\u0105ce im kody HTML i wynik przekaza\u0107 do funkcji `html`\n",
      "```ruby\n",
      "def display_author(author)\n",
      "  \"<h1>#{author.name} #{author.surname}</h1><img src='#{author.image_url}'/>\"\n",
      "end\n",
      "\n",
      "author_1 = Author.where(\"image_url is not null\").first\n",
      "author_2 = Author.where(\"image_url is not null\").offset(1).first\n",
      "document = display_author(author_1)\n",
      "document += display_author(author_2)\n",
      "IRuby.html document\n",
      "```"
     ]
    },
    {
     "cell_type": "code",
     "collapsed": false,
     "input": [
      "def display_author(author)\n",
      "  \"<h1>#{author.name} #{author.surname}</h1><img src='#{author.image_url}'/>\"\n",
      "end\n",
      "\n",
      "author_1 = Author.where(\"image_url is not null\").first\n",
      "author_2 = Author.where(\"image_url is not null\").offset(1).first\n",
      "document = display_author(author_1)\n",
      "document += display_author(author_2)\n",
      "IRuby.html document"
     ],
     "language": "python",
     "metadata": {},
     "outputs": [
      {
       "html": [
        "<h1>Orson Scott Card</h1><img src='http://commons.wikimedia.org/wiki/Special:FilePath/Orson_Scott_Card_at_BYU_Symposium_20080216_closeup.jpg?width=300'/><h1>Andrzej Sapkowski</h1><img src='http://commons.wikimedia.org/wiki/Special:FilePath/Sapkowski.jpg?width=300'/>"
       ],
       "metadata": {},
       "output_type": "pyout",
       "prompt_number": 9,
       "text": [
        "\"<h1>Orson Scott Card</h1><img src='http://commons.wikimedia.org/wiki/Special:FilePath/Orson_Scott_Card_at_BYU_Symposium_20080216_closeup.jpg?width=300'/><h1>Andrzej Sapkowski</h1><img src='http://commons.wikimedia.org/wiki/Special:FilePath/Sapkowski.jpg?width=300'/>\""
       ]
      }
     ],
     "prompt_number": 9
    },
    {
     "cell_type": "heading",
     "level": 2,
     "metadata": {},
     "source": [
      "Zadania"
     ]
    },
    {
     "cell_type": "heading",
     "level": 3,
     "metadata": {},
     "source": [
      "Zadanie 1"
     ]
    },
    {
     "cell_type": "markdown",
     "metadata": {},
     "source": [
      "Wy\u015bwietl wszystkich autor\u00f3w, kt\u00f3rzy urodzili si\u0119 przed rokiem 1900."
     ]
    },
    {
     "cell_type": "code",
     "collapsed": false,
     "input": [
      "authors = Author.where('born < ?', Date.parse(\"1900-01-01\"))\n",
      "authors.each do |author|\n",
      "    puts \"#{author.name} #{author.surname} #{author.born}\"\n",
      "end"
     ],
     "language": "python",
     "metadata": {},
     "outputs": [
      {
       "output_type": "stream",
       "stream": "stdout",
       "text": [
        "Juliusz S\u0142owacki 1809-09-04\n"
       ]
      },
      {
       "output_type": "stream",
       "stream": "stdout",
       "text": [
        "Henryk Sienkiewicz 1846-05-05\n"
       ]
      },
      {
       "output_type": "stream",
       "stream": "stdout",
       "text": [
        "Eliza Orzeszkowa 1841-06-06\n"
       ]
      },
      {
       "output_type": "stream",
       "stream": "stdout",
       "text": [
        "Adam Mickiewicz 1798-12-24\n"
       ]
      },
      {
       "output_type": "stream",
       "stream": "stdout",
       "text": [
        "Jack London 1876-01-12\n"
       ]
      },
      {
       "output_type": "stream",
       "stream": "stdout",
       "text": [
        "Miko\u0142aj Kopernik 1473-02-19\n"
       ]
      },
      {
       "output_type": "stream",
       "stream": "stdout",
       "text": [
        "Maria Franciszka Koz\u0142owska 1862-05-27\n"
       ]
      },
      {
       "output_type": "stream",
       "stream": "stdout",
       "text": [
        "William Szekspir 1564-04-23\n"
       ]
      },
      {
       "output_type": "stream",
       "stream": "stdout",
       "text": [
        "John Ronald Reuel Tolkien 1892-01-03\n"
       ]
      },
      {
       "output_type": "stream",
       "stream": "stdout",
       "text": [
        "Aleksander Dumas (ojciec) 1802-07-24\n"
       ]
      },
      {
       "output_type": "stream",
       "stream": "stdout",
       "text": [
        "Tadeusz Do\u0142\u0119ga-Mostowicz 1898-08-10\n"
       ]
      },
      {
       "output_type": "stream",
       "stream": "stdout",
       "text": [
        "Vladimir Nabokov 1899-04-22\n"
       ]
      },
      {
       "output_type": "stream",
       "stream": "stdout",
       "text": [
        "Adolf Hitler 1889-04-20\n"
       ]
      },
      {
       "output_type": "stream",
       "stream": "stdout",
       "text": [
        "Benedykt Chmielowski 1700-03-20\n"
       ]
      },
      {
       "output_type": "stream",
       "stream": "stdout",
       "text": [
        "Aldous Huxley 1894-07-26\n"
       ]
      },
      {
       "output_type": "stream",
       "stream": "stdout",
       "text": [
        "Honor\u00e9 de Balzac 1799-05-20\n"
       ]
      },
      {
       "output_type": "stream",
       "stream": "stdout",
       "text": [
        "Franz Kafka 1883-07-03\n"
       ]
      },
      {
       "output_type": "stream",
       "stream": "stdout",
       "text": [
        "Howard Phillips Lovecraft 1890-08-20\n"
       ]
      },
      {
       "output_type": "stream",
       "stream": "stdout",
       "text": [
        "Lew To\u0142stoj 1828-09-09\n"
       ]
      },
      {
       "output_type": "stream",
       "stream": "stdout",
       "text": [
        "Ilja Ilf 1897-10-15\n"
       ]
      },
      {
       "output_type": "stream",
       "stream": "stdout",
       "text": [
        "Gabriela Zapolska 1857-03-30\n"
       ]
      },
      {
       "output_type": "stream",
       "stream": "stdout",
       "text": [
        "Clive Staples Lewis 1898-11-29\n"
       ]
      },
      {
       "output_type": "stream",
       "stream": "stdout",
       "text": [
        "Iwan Turgieniew 1818-11-09\n"
       ]
      },
      {
       "output_type": "stream",
       "stream": "stdout",
       "text": [
        "Lucy Maud Montgomery 1874-11-30\n"
       ]
      },
      {
       "output_type": "stream",
       "stream": "stdout",
       "text": [
        "Aleksander Majkowski 1876-07-17\n"
       ]
      },
      {
       "metadata": {},
       "output_type": "pyout",
       "prompt_number": 20,
       "text": [
        "[#<Author id: 2, name: \"Juliusz\", surname: \"S\u0142owacki\", born: \"1809-09-04\", died: \"1849-04-03\", image_url: nil>, #<Author id: 3, name: \"Henryk\", surname: \"Sienkiewicz\", born: \"1846-05-05\", died: \"1916-11-15\", image_url: nil>, #<Author id: 4, name: \"Eliza\", surname: \"Orzeszkowa\", born: \"1841-06-06\", died: \"1910-05-18\", image_url: nil>, #<Author id: 5, name: \"Adam\", surname: \"Mickiewicz\", born: \"1798-12-24\", died: \"1855-11-26\", image_url: nil>, #<Author id: 12, name: \"Jack\", surname: \"London\", born: \"1876-01-12\", died: \"1916-11-22\", image_url: \"http://commons.wikimedia.org/wiki/Special:FilePath...\">, #<Author id: 16, name: \"Miko\u0142aj\", surname: \"Kopernik\", born: \"1473-02-19\", died: \"1543-05-24\", image_url: \"http://commons.wikimedia.org/wiki/Special:FilePath...\">, #<Author id: 17, name: \"Maria Franciszka\", surname: \"Koz\u0142owska\", born: \"1862-05-27\", died: nil, image_url: \"http://commons.wikimedia.org/wiki/Special:FilePath...\">, #<Author id: 19, name: \"William\", surname: \"Szekspir\", born: \"1564-04-23\", died: \"1616-05-03\", image_url: \"http://commons.wikimedia.org/wiki/Special:FilePath...\">, #<Author id: 21, name: \"John Ronald Reuel\", surname: \"Tolkien\", born: \"1892-01-03\", died: \"1973-09-02\", image_url: \"http://commons.wikimedia.org/wiki/Special:FilePath...\">, #<Author id: 22, name: \"Aleksander Dumas\", surname: \"(ojciec)\", born: \"1802-07-24\", died: \"1870-12-05\", image_url: \"http://commons.wikimedia.org/wiki/Special:FilePath...\">, #<Author id: 23, name: \"Tadeusz\", surname: \"Do\u0142\u0119ga-Mostowicz\", born: \"1898-08-10\", died: \"1939-09-20\", image_url: \"http://commons.wikimedia.org/wiki/Special:FilePath...\">, #<Author id: 24, name: \"Vladimir\", surname: \"Nabokov\", born: \"1899-04-22\", died: \"1977-07-02\", image_url: \"http://commons.wikimedia.org/wiki/Special:FilePath...\">, #<Author id: 25, name: \"Adolf\", surname: \"Hitler\", born: \"1889-04-20\", died: \"1945-04-30\", image_url: \"http://commons.wikimedia.org/wiki/Special:FilePath...\">, #<Author id: 27, name: \"Benedykt\", surname: \"Chmielowski\", born: \"1700-03-20\", died: \"1763-04-07\", image_url: \"http://commons.wikimedia.org/wiki/Special:FilePath...\">, #<Author id: 28, name: \"Aldous\", surname: \"Huxley\", born: \"1894-07-26\", died: \"1963-11-22\", image_url: \"http://commons.wikimedia.org/wiki/Special:FilePath...\">, #<Author id: 29, name: \"Honor\u00e9 de\", surname: \"Balzac\", born: \"1799-05-20\", died: \"1850-08-18\", image_url: \"http://commons.wikimedia.org/wiki/Special:FilePath...\">, #<Author id: 30, name: \"Franz\", surname: \"Kafka\", born: \"1883-07-03\", died: \"1924-06-03\", image_url: \"http://commons.wikimedia.org/wiki/Special:FilePath...\">, #<Author id: 32, name: \"Howard Phillips\", surname: \"Lovecraft\", born: \"1890-08-20\", died: \"1937-03-15\", image_url: \"http://commons.wikimedia.org/wiki/Special:FilePath...\">, #<Author id: 34, name: \"Lew\", surname: \"To\u0142stoj\", born: \"1828-09-09\", died: \"1910-11-20\", image_url: \"http://commons.wikimedia.org/wiki/Special:FilePath...\">, #<Author id: 39, name: \"Ilja\", surname: \"Ilf\", born: \"1897-10-15\", died: \"1937-04-13\", image_url: \"http://commons.wikimedia.org/wiki/Special:FilePath...\">, #<Author id: 41, name: \"Gabriela\", surname: \"Zapolska\", born: \"1857-03-30\", died: \"1921-12-17\", image_url: \"http://commons.wikimedia.org/wiki/Special:FilePath...\">, #<Author id: 44, name: \"Clive Staples\", surname: \"Lewis\", born: \"1898-11-29\", died: \"1963-11-22\", image_url: \"http://commons.wikimedia.org/wiki/Special:FilePath...\">, #<Author id: 47, name: \"Iwan\", surname: \"Turgieniew\", born: \"1818-11-09\", died: \"1883-09-03\", image_url: \"http://commons.wikimedia.org/wiki/Special:FilePath...\">, #<Author id: 50, name: \"Lucy Maud\", surname: \"Montgomery\", born: \"1874-11-30\", died: \"1942-04-24\", image_url: \"http://commons.wikimedia.org/wiki/Special:FilePath...\">, #<Author id: 56, name: \"Aleksander\", surname: \"Majkowski\", born: \"1876-07-17\", died: \"1938-02-10\", image_url: \"http://commons.wikimedia.org/wiki/Special:FilePath...\">]"
       ]
      }
     ],
     "prompt_number": 20
    },
    {
     "cell_type": "heading",
     "level": 3,
     "metadata": {},
     "source": [
      "Zadanie 2"
     ]
    },
    {
     "cell_type": "markdown",
     "metadata": {},
     "source": [
      "Zmodyfikuj funkcj\u0119 wy\u015bwietlaj\u0105c\u0105 autor\u00f3w tak aby obejmowa\u0142a ich dat\u0119 urodzin i \u015bmierci w formacie `dzie\u0144.miesi\u0105c.rok`. Nast\u0119pnie wy\u015bwietl wszystkich autor\u00f3w,\n",
      "kt\u00f3rzy zmarli w XX wieku."
     ]
    },
    {
     "cell_type": "code",
     "collapsed": false,
     "input": [
      "authors = Author.where(died: (Date.parse(\"1901-01-01\")..Date.parse(\"2000-12-31\")))\n",
      "authors.each do |author|\n",
      "  puts \"#{author.surname} #{author.born.strftime('%d-%m-%Y')} - #{author.died.strftime('%d-%m-%Y')}\"\n",
      "end"
     ],
     "language": "python",
     "metadata": {},
     "outputs": [
      {
       "output_type": "stream",
       "stream": "stdout",
       "text": [
        "Sienkiewicz 05-05-1846 - 15-11-1916\n"
       ]
      },
      {
       "output_type": "stream",
       "stream": "stdout",
       "text": [
        "Orzeszkowa 06-06-1841 - 18-05-1910\n"
       ]
      },
      {
       "output_type": "stream",
       "stream": "stdout",
       "text": [
        "London 12-01-1876 - 22-11-1916\n"
       ]
      },
      {
       "output_type": "stream",
       "stream": "stdout",
       "text": [
        "Go\u0142ubiew 25-02-1907 - 27-06-1979\n"
       ]
      },
      {
       "output_type": "stream",
       "stream": "stdout",
       "text": [
        "Orwell 25-06-1903 - 21-01-1950\n"
       ]
      },
      {
       "output_type": "stream",
       "stream": "stdout",
       "text": [
        "Tolkien 03-01-1892 - 02-09-1973\n"
       ]
      },
      {
       "output_type": "stream",
       "stream": "stdout",
       "text": [
        "Do\u0142\u0119ga-Mostowicz 10-08-1898 - 20-09-1939\n"
       ]
      },
      {
       "output_type": "stream",
       "stream": "stdout",
       "text": [
        "Nabokov 22-04-1899 - 02-07-1977\n"
       ]
      },
      {
       "output_type": "stream",
       "stream": "stdout",
       "text": [
        "Hitler 20-04-1889 - 30-04-1945\n"
       ]
      },
      {
       "output_type": "stream",
       "stream": "stdout",
       "text": [
        "Huxley 26-07-1894 - 22-11-1963\n"
       ]
      },
      {
       "output_type": "stream",
       "stream": "stdout",
       "text": [
        "Kafka 03-07-1883 - 03-06-1924\n"
       ]
      },
      {
       "output_type": "stream",
       "stream": "stdout",
       "text": [
        "Lovecraft 20-08-1890 - 15-03-1937\n"
       ]
      },
      {
       "output_type": "stream",
       "stream": "stdout",
       "text": [
        "Borchardt 25-03-1905 - 20-05-1986\n"
       ]
      },
      {
       "output_type": "stream",
       "stream": "stdout",
       "text": [
        "To\u0142stoj 09-09-1828 - 20-11-1910\n"
       ]
      },
      {
       "output_type": "stream",
       "stream": "stdout",
       "text": [
        "Zajdel 15-08-1938 - 19-07-1985\n"
       ]
      },
      {
       "output_type": "stream",
       "stream": "stdout",
       "text": [
        "Asimov 04-10-1919 - 06-04-1992\n"
       ]
      },
      {
       "output_type": "stream",
       "stream": "stdout",
       "text": [
        "Ilf 15-10-1897 - 13-04-1937\n"
       ]
      },
      {
       "output_type": "stream",
       "stream": "stdout",
       "text": [
        "(pisarz) 13-12-1903 - 02-07-1942\n"
       ]
      },
      {
       "output_type": "stream",
       "stream": "stdout",
       "text": [
        "Zapolska 30-03-1857 - 17-12-1921\n"
       ]
      },
      {
       "output_type": "stream",
       "stream": "stdout",
       "text": [
        "Lewis 29-11-1898 - 22-11-1963\n"
       ]
      },
      {
       "output_type": "stream",
       "stream": "stdout",
       "text": [
        "Montgomery 30-11-1874 - 24-04-1942\n"
       ]
      },
      {
       "output_type": "stream",
       "stream": "stdout",
       "text": [
        "Szklarski 21-01-1912 - 09-04-1992\n"
       ]
      },
      {
       "output_type": "stream",
       "stream": "stdout",
       "text": [
        "Majkowski 17-07-1876 - 10-02-1938\n"
       ]
      },
      {
       "output_type": "stream",
       "stream": "stdout",
       "text": [
        "Fleming 28-05-1908 - 12-08-1964\n"
       ]
      },
      {
       "metadata": {},
       "output_type": "pyout",
       "prompt_number": 9,
       "text": [
        "[#<Author id: 3, name: \"Henryk\", surname: \"Sienkiewicz\", born: \"1846-05-05\", died: \"1916-11-15\", image_url: nil>, #<Author id: 4, name: \"Eliza\", surname: \"Orzeszkowa\", born: \"1841-06-06\", died: \"1910-05-18\", image_url: nil>, #<Author id: 12, name: \"Jack\", surname: \"London\", born: \"1876-01-12\", died: \"1916-11-22\", image_url: \"http://commons.wikimedia.org/wiki/Special:FilePath...\">, #<Author id: 15, name: \"Antoni\", surname: \"Go\u0142ubiew\", born: \"1907-02-25\", died: \"1979-06-27\", image_url: \"http://commons.wikimedia.org/wiki/Special:FilePath...\">, #<Author id: 18, name: \"George\", surname: \"Orwell\", born: \"1903-06-25\", died: \"1950-01-21\", image_url: \"http://commons.wikimedia.org/wiki/Special:FilePath...\">, #<Author id: 21, name: \"John Ronald Reuel\", surname: \"Tolkien\", born: \"1892-01-03\", died: \"1973-09-02\", image_url: \"http://commons.wikimedia.org/wiki/Special:FilePath...\">, #<Author id: 23, name: \"Tadeusz\", surname: \"Do\u0142\u0119ga-Mostowicz\", born: \"1898-08-10\", died: \"1939-09-20\", image_url: \"http://commons.wikimedia.org/wiki/Special:FilePath...\">, #<Author id: 24, name: \"Vladimir\", surname: \"Nabokov\", born: \"1899-04-22\", died: \"1977-07-02\", image_url: \"http://commons.wikimedia.org/wiki/Special:FilePath...\">, #<Author id: 25, name: \"Adolf\", surname: \"Hitler\", born: \"1889-04-20\", died: \"1945-04-30\", image_url: \"http://commons.wikimedia.org/wiki/Special:FilePath...\">, #<Author id: 28, name: \"Aldous\", surname: \"Huxley\", born: \"1894-07-26\", died: \"1963-11-22\", image_url: \"http://commons.wikimedia.org/wiki/Special:FilePath...\">, #<Author id: 30, name: \"Franz\", surname: \"Kafka\", born: \"1883-07-03\", died: \"1924-06-03\", image_url: \"http://commons.wikimedia.org/wiki/Special:FilePath...\">, #<Author id: 32, name: \"Howard Phillips\", surname: \"Lovecraft\", born: \"1890-08-20\", died: \"1937-03-15\", image_url: \"http://commons.wikimedia.org/wiki/Special:FilePath...\">, #<Author id: 33, name: \"Karol Olgierd\", surname: \"Borchardt\", born: \"1905-03-25\", died: \"1986-05-20\", image_url: \"http://commons.wikimedia.org/wiki/Special:FilePath...\">, #<Author id: 34, name: \"Lew\", surname: \"To\u0142stoj\", born: \"1828-09-09\", died: \"1910-11-20\", image_url: \"http://commons.wikimedia.org/wiki/Special:FilePath...\">, #<Author id: 36, name: \"Janusz\", surname: \"Zajdel\", born: \"1938-08-15\", died: \"1985-07-19\", image_url: \"http://commons.wikimedia.org/wiki/Special:FilePath...\">, #<Author id: 38, name: \"Isaac\", surname: \"Asimov\", born: \"1919-10-04\", died: \"1992-04-06\", image_url: \"http://commons.wikimedia.org/wiki/Special:FilePath...\">, #<Author id: 39, name: \"Ilja\", surname: \"Ilf\", born: \"1897-10-15\", died: \"1937-04-13\", image_url: \"http://commons.wikimedia.org/wiki/Special:FilePath...\">, #<Author id: 40, name: \"Jewgienij Pietrow\", surname: \"(pisarz)\", born: \"1903-12-13\", died: \"1942-07-02\", image_url: \"http://commons.wikimedia.org/wiki/Special:FilePath...\">, #<Author id: 41, name: \"Gabriela\", surname: \"Zapolska\", born: \"1857-03-30\", died: \"1921-12-17\", image_url: \"http://commons.wikimedia.org/wiki/Special:FilePath...\">, #<Author id: 44, name: \"Clive Staples\", surname: \"Lewis\", born: \"1898-11-29\", died: \"1963-11-22\", image_url: \"http://commons.wikimedia.org/wiki/Special:FilePath...\">, #<Author id: 50, name: \"Lucy Maud\", surname: \"Montgomery\", born: \"1874-11-30\", died: \"1942-04-24\", image_url: \"http://commons.wikimedia.org/wiki/Special:FilePath...\">, #<Author id: 52, name: \"Alfred\", surname: \"Szklarski\", born: \"1912-01-21\", died: \"1992-04-09\", image_url: \"http://commons.wikimedia.org/wiki/Special:FilePath...\">, #<Author id: 56, name: \"Aleksander\", surname: \"Majkowski\", born: \"1876-07-17\", died: \"1938-02-10\", image_url: \"http://commons.wikimedia.org/wiki/Special:FilePath...\">, #<Author id: 57, name: \"Ian\", surname: \"Fleming\", born: \"1908-05-28\", died: \"1964-08-12\", image_url: \"http://commons.wikimedia.org/wiki/Special:FilePath...\">]"
       ]
      }
     ],
     "prompt_number": 9
    },
    {
     "cell_type": "heading",
     "level": 3,
     "metadata": {},
     "source": [
      "Zadanie 3"
     ]
    },
    {
     "cell_type": "markdown",
     "metadata": {},
     "source": [
      "Wy\u015bwietl 5 najm\u0142odszych autor\u00f3w, kt\u00f3rzy posiadaj\u0105 przypisane zdj\u0119cie."
     ]
    },
    {
     "cell_type": "code",
     "collapsed": false,
     "input": [
      "authors = Author.where(\"image_url is not null\").order('born desc').limit(5)\n",
      "authors_str = \"\"\n",
      "authors.each do |author|\n",
      "  #puts \"#{author.name} #{author.surname} #{author.born.strftime('%d-%m-%Y')} #{author.image_url}\" \n",
      "  authors_str << \"<h1>#{author.name} #{author.surname}</h1> #{author.born} <img src='#{author.image_url}'/>\"\n",
      "end\n",
      "IRuby.html authors_str"
     ],
     "language": "python",
     "metadata": {},
     "outputs": [
      {
       "html": [
        "<h1>Andrzej Pilipiuk</h1> 1974-03-20 <img src='http://commons.wikimedia.org/wiki/Special:FilePath/Andrzej_Pilipiuk-Polcon2006.jpg?width=300'/><h1>J. K. Rowling</h1> 1965-07-31 <img src='http://commons.wikimedia.org/wiki/Special:FilePath/J._K._Rowling_2010.jpg?width=300'/><h1>Rafa\u0142 A. Ziemkiewicz</h1> 1964-09-13 <img src='http://commons.wikimedia.org/wiki/Special:FilePath/Rafa\u0142_Ziemkiewicz.jpg?width=300'/><h1>Boris Akunin</h1> 1956-05-20 <img src='http://commons.wikimedia.org/wiki/Special:FilePath/Boris_Akunin_2012.jpg?width=300'/><h1>Orson Scott Card</h1> 1951-08-24 <img src='http://commons.wikimedia.org/wiki/Special:FilePath/Orson_Scott_Card_at_BYU_Symposium_20080216_closeup.jpg?width=300'/>"
       ],
       "metadata": {},
       "output_type": "pyout",
       "prompt_number": 32,
       "text": [
        "\"<h1>Andrzej Pilipiuk</h1> 1974-03-20 <img src='http://commons.wikimedia.org/wiki/Special:FilePath/Andrzej_Pilipiuk-Polcon2006.jpg?width=300'/><h1>J. K. Rowling</h1> 1965-07-31 <img src='http://commons.wikimedia.org/wiki/Special:FilePath/J._K._Rowling_2010.jpg?width=300'/><h1>Rafa\u0142 A. Ziemkiewicz</h1> 1964-09-13 <img src='http://commons.wikimedia.org/wiki/Special:FilePath/Rafa\u0142_Ziemkiewicz.jpg?width=300'/><h1>Boris Akunin</h1> 1956-05-20 <img src='http://commons.wikimedia.org/wiki/Special:FilePath/Boris_Akunin_2012.jpg?width=300'/><h1>Orson Scott Card</h1> 1951-08-24 <img src='http://commons.wikimedia.org/wiki/Special:FilePath/Orson_Scott_Card_at_BYU_Symposium_20080216_closeup.jpg?width=300'/>\""
       ]
      }
     ],
     "prompt_number": 32
    },
    {
     "cell_type": "code",
     "collapsed": false,
     "input": [],
     "language": "python",
     "metadata": {},
     "outputs": [],
     "prompt_number": 20
    },
    {
     "cell_type": "heading",
     "level": 3,
     "metadata": {},
     "source": [
      "Zadanie 4"
     ]
    },
    {
     "cell_type": "markdown",
     "metadata": {},
     "source": [
      "Zdefiniuj funkcj\u0119 `display_book`, kt\u00f3ra b\u0119dzie zwraca\u0142a fragment kodu HTML obejmuj\u0105cy tytu\u0142 ksi\u0105\u017cki, rok jej wydania oraz\n",
      "przypisany obrazek.\n",
      "Wy\u015bwietl najwcze\u015bniej wydan\u0105 ksi\u0105\u017ck\u0119."
     ]
    },
    {
     "cell_type": "code",
     "collapsed": false,
     "input": [
      "def display_book()\n",
      "  books_str = \"\"\n",
      "  book = Book.order('published asc').where(\"published is not null\").first\n",
      "  books_str << \"<h1>#{book.title}</h1> #{book.published} <img src='#{book.author.image_url}'/>\"\n",
      "  IRuby.html books_str\n",
      "end\n",
      "\n",
      "display_book()"
     ],
     "language": "python",
     "metadata": {},
     "outputs": [
      {
       "html": [
        "<h1>Ojcowie i dzieci</h1> 0 <img src='http://commons.wikimedia.org/wiki/Special:FilePath/Turgenev_by_Repin.jpg?width=300'/>"
       ],
       "metadata": {},
       "output_type": "pyout",
       "prompt_number": 21,
       "text": [
        "\"<h1>Ojcowie i dzieci</h1> 0 <img src='http://commons.wikimedia.org/wiki/Special:FilePath/Turgenev_by_Repin.jpg?width=300'/>\""
       ]
      }
     ],
     "prompt_number": 21
    },
    {
     "cell_type": "code",
     "collapsed": false,
     "input": [
      "Book.order('published asc').where(\"published is not null\").each do |book|\n",
      "  puts \"#{book.title} #{book.published}\"\n",
      "end"
     ],
     "language": "python",
     "metadata": {},
     "outputs": [
      {
       "output_type": "stream",
       "stream": "stdout",
       "text": [
        "Ojcowie i dzieci 0\n"
       ]
      },
      {
       "output_type": "stream",
       "stream": "stdout",
       "text": [
        "De revolutionibus orbium coelestium 1543\n"
       ]
      },
      {
       "output_type": "stream",
       "stream": "stdout",
       "text": [
        "Psa\u0142terz Dawid\u00f3w 1579\n"
       ]
      },
      {
       "output_type": "stream",
       "stream": "stdout",
       "text": [
        "Romeo i Julia 1597\n"
       ]
      },
      {
       "output_type": "stream",
       "stream": "stdout",
       "text": [
        "Sen nocy letniej 1600\n"
       ]
      },
      {
       "output_type": "stream",
       "stream": "stdout",
       "text": [
        "Nowe Ateny 1745\n"
       ]
      },
      {
       "output_type": "stream",
       "stream": "stdout",
       "text": [
        "Ksi\u0119gi narodu polskiego i pielgrzymstwa polskiego 1832\n"
       ]
      },
      {
       "output_type": "stream",
       "stream": "stdout",
       "text": [
        "Ojciec Goriot 1835\n"
       ]
      },
      {
       "output_type": "stream",
       "stream": "stdout",
       "text": [
        "Hrabia Monte Christo 1844\n"
       ]
      },
      {
       "output_type": "stream",
       "stream": "stdout",
       "text": [
        "Wojna i pok\u00f3j 1865\n"
       ]
      },
      {
       "output_type": "stream",
       "stream": "stdout",
       "text": [
        "Anna Karenina 1877\n"
       ]
      },
      {
       "output_type": "stream",
       "stream": "stdout",
       "text": [
        "Ogniem i mieczem 1884\n"
       ]
      },
      {
       "output_type": "stream",
       "stream": "stdout",
       "text": [
        "Nad Niemnem 1888\n"
       ]
      },
      {
       "output_type": "stream",
       "stream": "stdout",
       "text": [
        "Quo vadis 1896\n"
       ]
      },
      {
       "output_type": "stream",
       "stream": "stdout",
       "text": [
        "Krzy\u017cacy (powie\u015b\u0107) 1900\n"
       ]
      },
      {
       "output_type": "stream",
       "stream": "stdout",
       "text": [
        "Ich czworo 1907\n"
       ]
      },
      {
       "output_type": "stream",
       "stream": "stdout",
       "text": [
        "Bellew Zawierucha 1912\n"
       ]
      },
      {
       "output_type": "stream",
       "stream": "stdout",
       "text": [
        "Rilla ze Z\u0142otego Brzegu 1921\n"
       ]
      },
      {
       "output_type": "stream",
       "stream": "stdout",
       "text": [
        "Dzie\u0142o Wielkiego Mi\u0142osierdzia 1922\n"
       ]
      },
      {
       "output_type": "stream",
       "stream": "stdout",
       "text": [
        "Mein Kampf 1925\n"
       ]
      },
      {
       "output_type": "stream",
       "stream": "stdout",
       "text": [
        "Proces (powie\u015b\u0107) 1925\n"
       ]
      },
      {
       "output_type": "stream",
       "stream": "stdout",
       "text": [
        "Zew Cthulhu (opowiadanie) 1928\n"
       ]
      },
      {
       "output_type": "stream",
       "stream": "stdout",
       "text": [
        "Dwana\u015bcie krzese\u0142 1928\n"
       ]
      },
      {
       "output_type": "stream",
       "stream": "stdout",
       "text": [
        "Kariera Nikodema Dyzmy 1932\n"
       ]
      },
      {
       "output_type": "stream",
       "stream": "stdout",
       "text": [
        "Nowy wspania\u0142y \u015bwiat 1932\n"
       ]
      },
      {
       "output_type": "stream",
       "stream": "stdout",
       "text": [
        "Hobbit, czyli tam i z powrotem 1937\n"
       ]
      },
      {
       "output_type": "stream",
       "stream": "stdout",
       "text": [
        "Droga na molo w Wigan 1937\n"
       ]
      },
      {
       "output_type": "stream",
       "stream": "stdout",
       "text": [
        "\u017bycie i przygody Remusa 1938\n"
       ]
      },
      {
       "output_type": "stream",
       "stream": "stdout",
       "text": [
        "Folwark zwierz\u0119cy 1945\n"
       ]
      },
      {
       "output_type": "stream",
       "stream": "stdout",
       "text": [
        "Boles\u0142aw Chrobry (powie\u015b\u0107) 1947\n"
       ]
      },
      {
       "output_type": "stream",
       "stream": "stdout",
       "text": [
        "Fundacja (powie\u015b\u0107) 1951\n"
       ]
      },
      {
       "output_type": "stream",
       "stream": "stdout",
       "text": [
        "Fundacja i Imperium 1952\n"
       ]
      },
      {
       "output_type": "stream",
       "stream": "stdout",
       "text": [
        "Druga Fundacja 1953\n"
       ]
      },
      {
       "output_type": "stream",
       "stream": "stdout",
       "text": [
        "Casino Royale (powie\u015b\u0107) 1953\n"
       ]
      },
      {
       "output_type": "stream",
       "stream": "stdout",
       "text": [
        "W\u0142adca Pier\u015bcieni 1954\n"
       ]
      },
      {
       "output_type": "stream",
       "stream": "stdout",
       "text": [
        "Ko\u0144 i jego ch\u0142opiec 1954\n"
       ]
      },
      {
       "output_type": "stream",
       "stream": "stdout",
       "text": [
        "Sezam i inne opowiadania 1954\n"
       ]
      },
      {
       "output_type": "stream",
       "stream": "stdout",
       "text": [
        "Lolita 1955\n"
       ]
      },
      {
       "output_type": "stream",
       "stream": "stdout",
       "text": [
        "Inwazja z Aldebarana (zbi\u00f3r opowiada\u0144) 1959\n"
       ]
      },
      {
       "output_type": "stream",
       "stream": "stdout",
       "text": [
        "Znaczy Kapitan 1960\n"
       ]
      },
      {
       "output_type": "stream",
       "stream": "stdout",
       "text": [
        "Solaris (powie\u015b\u0107) 1961\n"
       ]
      },
      {
       "output_type": "stream",
       "stream": "stdout",
       "text": [
        "Ksi\u0119ga robot\u00f3w 1961\n"
       ]
      },
      {
       "output_type": "stream",
       "stream": "stdout",
       "text": [
        "Pami\u0119tnik znaleziony w wannie 1961\n"
       ]
      },
      {
       "output_type": "stream",
       "stream": "stdout",
       "text": [
        "Noc ksi\u0119\u017cycowa 1963\n"
       ]
      },
      {
       "output_type": "stream",
       "stream": "stdout",
       "text": [
        "Bajki robot\u00f3w 1964\n"
       ]
      },
      {
       "output_type": "stream",
       "stream": "stdout",
       "text": [
        "Niezwyci\u0119\u017cony i inne opowiadania 1964\n"
       ]
      },
      {
       "output_type": "stream",
       "stream": "stdout",
       "text": [
        "Summa technologiae 1964\n"
       ]
      },
      {
       "output_type": "stream",
       "stream": "stdout",
       "text": [
        "Polowanie (zbi\u00f3r opowiada\u0144) 1965\n"
       ]
      },
      {
       "output_type": "stream",
       "stream": "stdout",
       "text": [
        "Tomek u \u017ar\u00f3de\u0142 Amazonki 1967\n"
       ]
      },
      {
       "output_type": "stream",
       "stream": "stdout",
       "text": [
        "G\u0142os Pana 1968\n"
       ]
      },
      {
       "output_type": "stream",
       "stream": "stdout",
       "text": [
        "Czarnoksi\u0119\u017cnik z Archipelagu 1968\n"
       ]
      },
      {
       "output_type": "stream",
       "stream": "stdout",
       "text": [
        "Lewa r\u0119ka ciemno\u015bci 1969\n"
       ]
      },
      {
       "output_type": "stream",
       "stream": "stdout",
       "text": [
        "Bezsenno\u015b\u0107 (zbi\u00f3r opowiada\u0144) 1971\n"
       ]
      },
      {
       "output_type": "stream",
       "stream": "stdout",
       "text": [
        "Katar (powie\u015b\u0107) 1976\n"
       ]
      },
      {
       "output_type": "stream",
       "stream": "stdout",
       "text": [
        "Maska (zbi\u00f3r dzie\u0142) 1976\n"
       ]
      },
      {
       "output_type": "stream",
       "stream": "stdout",
       "text": [
        "Silmarillion 1977\n"
       ]
      },
      {
       "output_type": "stream",
       "stream": "stdout",
       "text": [
        "Powt\u00f3rka (zbi\u00f3r dzie\u0142) 1979\n"
       ]
      },
      {
       "output_type": "stream",
       "stream": "stdout",
       "text": [
        "Niedoko\u0144czone opowie\u015bci 1980\n"
       ]
      },
      {
       "output_type": "stream",
       "stream": "stdout",
       "text": [
        "Dives in misericordia 1980\n"
       ]
      },
      {
       "output_type": "stream",
       "stream": "stdout",
       "text": [
        "Cie\u0144 kata 1980\n"
       ]
      },
      {
       "output_type": "stream",
       "stream": "stdout",
       "text": [
        "Wizja lokalna (powie\u015b\u0107) 1982\n"
       ]
      },
      {
       "output_type": "stream",
       "stream": "stdout",
       "text": [
        "Ca\u0142a prawda o planecie Ksi 1983\n"
       ]
      },
      {
       "output_type": "stream",
       "stream": "stdout",
       "text": [
        "Slavorum apostoli 1985\n"
       ]
      },
      {
       "output_type": "stream",
       "stream": "stdout",
       "text": [
        "Wampir Lestat 1985\n"
       ]
      },
      {
       "output_type": "stream",
       "stream": "stdout",
       "text": [
        "Tomek w Gran Chaco 1987\n"
       ]
      },
      {
       "output_type": "stream",
       "stream": "stdout",
       "text": [
        "Czas patriot\u00f3w (powie\u015b\u0107) 1987\n"
       ]
      },
      {
       "output_type": "stream",
       "stream": "stdout",
       "text": [
        "Preludium Fundacji 1988\n"
       ]
      },
      {
       "output_type": "stream",
       "stream": "stdout",
       "text": [
        "Kot w stanie czystym 1989\n"
       ]
      },
      {
       "output_type": "stream",
       "stream": "stdout",
       "text": [
        "Po\u017cytek ze smoka 1993\n"
       ]
      },
      {
       "output_type": "stream",
       "stream": "stdout",
       "text": [
        "Veritatis splendor 1993\n"
       ]
      },
      {
       "output_type": "stream",
       "stream": "stdout",
       "text": [
        "Tomek w grobowcach faraon\u00f3w 1994\n"
       ]
      },
      {
       "output_type": "stream",
       "stream": "stdout",
       "text": [
        "Fa\u0142szywy trop (powie\u015b\u0107) 1995\n"
       ]
      },
      {
       "output_type": "stream",
       "stream": "stdout",
       "text": [
        "Ut unum sint 1995\n"
       ]
      },
      {
       "output_type": "stream",
       "stream": "stdout",
       "text": [
        "Pie\u015b\u0144 Lodu i Ognia 1996\n"
       ]
      },
      {
       "output_type": "stream",
       "stream": "stdout",
       "text": [
        "Harry Potter 1997\n"
       ]
      },
      {
       "output_type": "stream",
       "stream": "stdout",
       "text": [
        "Azazel (powie\u015b\u0107) 1998\n"
       ]
      },
      {
       "output_type": "stream",
       "stream": "stdout",
       "text": [
        "Dekorator 1998\n"
       ]
      },
      {
       "output_type": "stream",
       "stream": "stdout",
       "text": [
        "Gambit turecki 1998\n"
       ]
      },
      {
       "output_type": "stream",
       "stream": "stdout",
       "text": [
        "Lewiatan (powie\u015b\u0107) 1998\n"
       ]
      },
      {
       "output_type": "stream",
       "stream": "stdout",
       "text": [
        "Radca stanu (powie\u015b\u0107) 1998\n"
       ]
      },
      {
       "output_type": "stream",
       "stream": "stdout",
       "text": [
        "Tam gdzie spadaj\u0105 anio\u0142y 1998\n"
       ]
      },
      {
       "output_type": "stream",
       "stream": "stdout",
       "text": [
        "Walc stulecia 1998\n"
       ]
      },
      {
       "output_type": "stream",
       "stream": "stdout",
       "text": [
        "Walet pikowy (powie\u015b\u0107) 1998\n"
       ]
      },
      {
       "output_type": "stream",
       "stream": "stdout",
       "text": [
        "\u015amier\u0107 Achillesa 1998\n"
       ]
      },
      {
       "output_type": "stream",
       "stream": "stdout",
       "text": [
        "Pani Jeziora (powie\u015b\u0107) 1999\n"
       ]
      },
      {
       "output_type": "stream",
       "stream": "stdout",
       "text": [
        "Koronacja (powie\u015b\u0107) 1999\n"
       ]
      },
      {
       "output_type": "stream",
       "stream": "stdout",
       "text": [
        "Kochanek \u015amierci 2001\n"
       ]
      },
      {
       "output_type": "stream",
       "stream": "stdout",
       "text": [
        "Kochanka \u015amierci 2001\n"
       ]
      },
      {
       "output_type": "stream",
       "stream": "stdout",
       "text": [
        "Kamienna ma\u0142pa 2002\n"
       ]
      },
      {
       "output_type": "stream",
       "stream": "stdout",
       "text": [
        "Diamentowa karoca 2003\n"
       ]
      },
      {
       "output_type": "stream",
       "stream": "stdout",
       "text": [
        "Kuzynki 2003\n"
       ]
      },
      {
       "output_type": "stream",
       "stream": "stdout",
       "text": [
        "Mag (powie\u015b\u0107 J. Deavera) 2003\n"
       ]
      },
      {
       "output_type": "stream",
       "stream": "stdout",
       "text": [
        "Podr\u00f3\u017ce z Herodotem 2004\n"
       ]
      },
      {
       "output_type": "stream",
       "stream": "stdout",
       "text": [
        "Rasa drapie\u017cc\u00f3w. Teksty ostatnie 2006\n"
       ]
      },
      {
       "output_type": "stream",
       "stream": "stdout",
       "text": [
        "Czarownica z Portobello 2006\n"
       ]
      },
      {
       "metadata": {},
       "output_type": "pyout",
       "prompt_number": 32,
       "text": [
        "[#<Book id: 65, title: \"Ojcowie i dzieci\", language: nil, author_id: 47, published: 0, image_url: \"http://commons.wikimedia.org/wiki/Special:FilePath...\">, #<Book id: 7, title: \"De revolutionibus orbium coelestium\", language: nil, author_id: 16, published: 1543, image_url: nil>, #<Book id: 25, title: \"Psa\u0142terz Dawid\u00f3w\", language: nil, author_id: 31, published: 1579, image_url: \"http://commons.wikimedia.org/wiki/Special:FilePath...\">, #<Book id: 27, title: \"Romeo i Julia\", language: nil, author_id: 19, published: 1597, image_url: \"http://commons.wikimedia.org/wiki/Special:FilePath...\">, #<Book id: 76, title: \"Sen nocy letniej\", language: nil, author_id: 19, published: 1600, image_url: \"http://commons.wikimedia.org/wiki/Special:FilePath...\">, #<Book id: 20, title: \"Nowe Ateny\", language: nil, author_id: 27, published: 1745, image_url: \"http://commons.wikimedia.org/wiki/Special:FilePath...\">, #<Book id: 57, title: \"Ksi\u0119gi narodu polskiego i pielgrzymstwa polskiego\", language: nil, author_id: 5, published: 1832, image_url: \"http://commons.wikimedia.org/wiki/Special:FilePath...\">, #<Book id: 23, title: \"Ojciec Goriot\", language: nil, author_id: 29, published: 1835, image_url: \"http://commons.wikimedia.org/wiki/Special:FilePath...\">, #<Book id: 13, title: \"Hrabia Monte Christo\", language: nil, author_id: 22, published: 1844, image_url: \"http://commons.wikimedia.org/wiki/Special:FilePath...\">, #<Book id: 90, title: \"Wojna i pok\u00f3j\", language: nil, author_id: 34, published: 1865, image_url: \"http://commons.wikimedia.org/wiki/Special:FilePath...\">, #<Book id: 33, title: \"Anna Karenina\", language: nil, author_id: 34, published: 1877, image_url: \"http://commons.wikimedia.org/wiki/Special:FilePath...\">, #<Book id: 22, title: \"Ogniem i mieczem\", language: nil, author_id: 3, published: 1884, image_url: \"http://commons.wikimedia.org/wiki/Special:FilePath...\">, #<Book id: 18, title: \"Nad Niemnem\", language: nil, author_id: 4, published: 1888, image_url: \"http://commons.wikimedia.org/wiki/Special:FilePath...\">, #<Book id: 26, title: \"Quo vadis\", language: nil, author_id: 3, published: 1896, image_url: \"http://commons.wikimedia.org/wiki/Special:FilePath...\">, #<Book id: 15, title: \"Krzy\u017cacy (powie\u015b\u0107)\", language: nil, author_id: 3, published: 1900, image_url: \"http://commons.wikimedia.org/wiki/Special:FilePath...\">, #<Book id: 47, title: \"Ich czworo\", language: nil, author_id: 41, published: 1907, image_url: nil>, #<Book id: 3, title: \"Bellew Zawierucha\", language: nil, author_id: 12, published: 1912, image_url: nil>, #<Book id: 75, title: \"Rilla ze Z\u0142otego Brzegu\", language: nil, author_id: 50, published: 1921, image_url: nil>, #<Book id: 8, title: \"Dzie\u0142o Wielkiego Mi\u0142osierdzia\", language: nil, author_id: 17, published: 1922, image_url: nil>, #<Book id: 17, title: \"Mein Kampf\", language: nil, author_id: 25, published: 1925, image_url: \"http://commons.wikimedia.org/wiki/Special:FilePath...\">, #<Book id: 24, title: \"Proces (powie\u015b\u0107)\", language: nil, author_id: 30, published: 1925, image_url: \"http://commons.wikimedia.org/wiki/Special:FilePath...\">, #<Book id: 31, title: \"Zew Cthulhu (opowiadanie)\", language: nil, author_id: 32, published: 1928, image_url: nil>, #<Book id: 42, title: \"Dwana\u015bcie krzese\u0142\", language: nil, author_id: 39, published: 1928, image_url: \"http://commons.wikimedia.org/wiki/Special:FilePath...\">, #<Book id: 14, title: \"Kariera Nikodema Dyzmy\", language: nil, author_id: 23, published: 1932, image_url: nil>, #<Book id: 21, title: \"Nowy wspania\u0142y \u015bwiat\", language: nil, author_id: 28, published: 1932, image_url: nil>, #<Book id: 12, title: \"Hobbit, czyli tam i z powrotem\", language: nil, author_id: 21, published: 1937, image_url: nil>, #<Book id: 40, title: \"Droga na molo w Wigan\", language: nil, author_id: 18, published: 1937, image_url: nil>, #<Book id: 92, title: \"\u017bycie i przygody Remusa\", language: nil, author_id: 56, published: 1938, image_url: nil>, #<Book id: 9, title: \"Folwark zwierz\u0119cy\", language: nil, author_id: 18, published: 1945, image_url: \"http://commons.wikimedia.org/wiki/Special:FilePath...\">, #<Book id: 6, title: \"Boles\u0142aw Chrobry (powie\u015b\u0107)\", language: nil, author_id: 15, published: 1947, image_url: nil>, #<Book id: 43, title: \"Fundacja (powie\u015b\u0107)\", language: nil, author_id: 38, published: 1951, image_url: nil>, #<Book id: 44, title: \"Fundacja i Imperium\", language: nil, author_id: 38, published: 1952, image_url: nil>, #<Book id: 41, title: \"Druga Fundacja\", language: nil, author_id: 38, published: 1953, image_url: nil>, #<Book id: 93, title: \"Casino Royale (powie\u015b\u0107)\", language: nil, author_id: 57, published: 1953, image_url: nil>, #<Book id: 30, title: \"W\u0142adca Pier\u015bcieni\", language: nil, author_id: 21, published: 1954, image_url: \"http://commons.wikimedia.org/wiki/Special:FilePath...\">, #<Book id: 55, title: \"Ko\u0144 i jego ch\u0142opiec\", language: nil, author_id: 44, published: 1954, image_url: nil>, #<Book id: 77, title: \"Sezam i inne opowiadania\", language: nil, author_id: 14, published: 1954, image_url: nil>, #<Book id: 16, title: \"Lolita\", language: nil, author_id: 24, published: 1955, image_url: nil>, #<Book id: 48, title: \"Inwazja z Aldebarana (zbi\u00f3r opowiada\u0144)\", language: nil, author_id: 14, published: 1959, image_url: nil>, #<Book id: 32, title: \"Znaczy Kapitan\", language: nil, author_id: 33, published: 1960, image_url: nil>, #<Book id: 29, title: \"Solaris (powie\u015b\u0107)\", language: nil, author_id: 14, published: 1961, image_url: \"http://commons.wikimedia.org/wiki/Special:FilePath...\">, #<Book id: 56, title: \"Ksi\u0119ga robot\u00f3w\", language: nil, author_id: 14, published: 1961, image_url: nil>, #<Book id: 66, title: \"Pami\u0119tnik znaleziony w wannie\", language: nil, author_id: 14, published: 1961, image_url: nil>, #<Book id: 64, title: \"Noc ksi\u0119\u017cycowa\", language: nil, author_id: 14, published: 1963, image_url: nil>, #<Book id: 5, title: \"Bajki robot\u00f3w\", language: nil, author_id: 14, published: 1964, image_url: nil>, #<Book id: 63, title: \"Niezwyci\u0119\u017cony i inne opowiadania\", language: nil, author_id: 14, published: 1964, image_url: nil>, #<Book id: 79, title: \"Summa technologiae\", language: nil, author_id: 14, published: 1964, image_url: nil>, #<Book id: 69, title: \"Polowanie (zbi\u00f3r opowiada\u0144)\", language: nil, author_id: 14, published: 1965, image_url: nil>, #<Book id: 81, title: \"Tomek u \u017ar\u00f3de\u0142 Amazonki\", language: nil, author_id: 52, published: 1967, image_url: nil>, #<Book id: 46, title: \"G\u0142os Pana\", language: nil, author_id: 14, published: 1968, image_url: nil>, #<Book id: 95, title: \"Czarnoksi\u0119\u017cnik z Archipelagu\", language: nil, author_id: 46, published: 1968, image_url: nil>, #<Book id: 59, title: \"Lewa r\u0119ka ciemno\u015bci\", language: nil, author_id: 46, published: 1969, image_url: nil>, #<Book id: 35, title: \"Bezsenno\u015b\u0107 (zbi\u00f3r opowiada\u0144)\", language: nil, author_id: 14, published: 1971, image_url: nil>, #<Book id: 50, title: \"Katar (powie\u015b\u0107)\", language: nil, author_id: 14, published: 1976, image_url: nil>, #<Book id: 62, title: \"Maska (zbi\u00f3r dzie\u0142)\", language: nil, author_id: 14, published: 1976, image_url: nil>, #<Book id: 28, title: \"Silmarillion\", language: nil, author_id: 21, published: 1977, image_url: \"http://commons.wikimedia.org/wiki/Special:FilePath...\">, #<Book id: 70, title: \"Powt\u00f3rka (zbi\u00f3r dzie\u0142)\", language: nil, author_id: 14, published: 1979, image_url: nil>, #<Book id: 19, title: \"Niedoko\u0144czone opowie\u015bci\", language: nil, author_id: 26, published: 1980, image_url: nil>, #<Book id: 39, title: \"Dives in misericordia\", language: nil, author_id: 37, published: 1980, image_url: \"http://commons.wikimedia.org/wiki/Special:FilePath...\">, #<Book id: 94, title: \"Cie\u0144 kata\", language: nil, author_id: 58, published: 1980, image_url: nil>, #<Book id: 89, title: \"Wizja lokalna (powie\u015b\u0107)\", language: nil, author_id: 14, published: 1982, image_url: nil>, #<Book id: 36, title: \"Ca\u0142a prawda o planecie Ksi\", language: nil, author_id: 36, published: 1983, image_url: nil>, #<Book id: 78, title: \"Slavorum apostoli\", language: nil, author_id: 37, published: 1985, image_url: \"http://commons.wikimedia.org/wiki/Special:FilePath...\">, #<Book id: 88, title: \"Wampir Lestat\", language: nil, author_id: 55, published: 1985, image_url: nil>, #<Book id: 82, title: \"Tomek w Gran Chaco\", language: nil, author_id: 52, published: 1987, image_url: nil>, #<Book id: 97, title: \"Czas patriot\u00f3w (powie\u015b\u0107)\", language: nil, author_id: 60, published: 1987, image_url: nil>, #<Book id: 72, title: \"Preludium Fundacji\", language: nil, author_id: 38, published: 1988, image_url: nil>, #<Book id: 54, title: \"Kot w stanie czystym\", language: nil, author_id: 43, published: 1989, image_url: nil>, #<Book id: 71, title: \"Po\u017cytek ze smoka\", language: nil, author_id: 14, published: 1993, image_url: nil>, #<Book id: 85, title: \"Veritatis splendor\", language: nil, author_id: 37, published: 1993, image_url: \"http://commons.wikimedia.org/wiki/Special:FilePath...\">, #<Book id: 83, title: \"Tomek w grobowcach faraon\u00f3w\", language: nil, author_id: 52, published: 1994, image_url: nil>, #<Book id: 4, title: \"Fa\u0142szywy trop (powie\u015b\u0107)\", language: nil, author_id: 13, published: 1995, image_url: nil>, #<Book id: 84, title: \"Ut unum sint\", language: nil, author_id: 37, published: 1995, image_url: \"http://commons.wikimedia.org/wiki/Special:FilePath...\">, #<Book id: 67, title: \"Pie\u015b\u0144 Lodu i Ognia\", language: nil, author_id: 48, published: 1996, image_url: nil>, #<Book id: 11, title: \"Harry Potter\", language: nil, author_id: 20, published: 1997, image_url: \"http://commons.wikimedia.org/wiki/Special:FilePath...\">, #<Book id: 34, title: \"Azazel (powie\u015b\u0107)\", language: nil, author_id: 35, published: 1998, image_url: nil>, #<Book id: 37, title: \"Dekorator\", language: nil, author_id: 35, published: 1998, image_url: nil>, #<Book id: 45, title: \"Gambit turecki\", language: nil, author_id: 35, published: 1998, image_url: nil>, #<Book id: 60, title: \"Lewiatan (powie\u015b\u0107)\", language: nil, author_id: 35, published: 1998, image_url: nil>, #<Book id: 73, title: \"Radca stanu (powie\u015b\u0107)\", language: nil, author_id: 35, published: 1998, image_url: nil>, #<Book id: 80, title: \"Tam gdzie spadaj\u0105 anio\u0142y\", language: nil, author_id: 51, published: 1998, image_url: nil>, #<Book id: 86, title: \"Walc stulecia\", language: nil, author_id: 54, published: 1998, image_url: nil>, #<Book id: 87, title: \"Walet pikowy (powie\u015b\u0107)\", language: nil, author_id: 35, published: 1998, image_url: nil>, #<Book id: 91, title: \"\u015amier\u0107 Achillesa\", language: nil, author_id: 35, published: 1998, image_url: nil>, #<Book id: 2, title: \"Pani Jeziora (powie\u015b\u0107)\", language: nil, author_id: 11, published: 1999, image_url: nil>, #<Book id: 53, title: \"Koronacja (powie\u015b\u0107)\", language: nil, author_id: 35, published: 1999, image_url: nil>, #<Book id: 51, title: \"Kochanek \u015amierci\", language: nil, author_id: 35, published: 2001, image_url: nil>, #<Book id: 52, title: \"Kochanka \u015amierci\", language: nil, author_id: 35, published: 2001, image_url: nil>, #<Book id: 49, title: \"Kamienna ma\u0142pa\", language: nil, author_id: 42, published: 2002, image_url: nil>, #<Book id: 38, title: \"Diamentowa karoca\", language: nil, author_id: 35, published: 2003, image_url: nil>, #<Book id: 58, title: \"Kuzynki\", language: nil, author_id: 45, published: 2003, image_url: nil>, #<Book id: 61, title: \"Mag (powie\u015b\u0107 J. Deavera)\", language: nil, author_id: 42, published: 2003, image_url: nil>, #<Book id: 68, title: \"Podr\u00f3\u017ce z Herodotem\", language: nil, author_id: 49, published: 2004, image_url: nil>, #<Book id: 74, title: \"Rasa drapie\u017cc\u00f3w. Teksty ostatnie\", language: nil, author_id: 14, published: 2006, image_url: nil>, #<Book id: 96, title: \"Czarownica z Portobello\", language: nil, author_id: 59, published: 2006, image_url: nil>]"
       ]
      }
     ],
     "prompt_number": 32
    },
    {
     "cell_type": "code",
     "collapsed": true,
     "input": [
      "class Author < ActiveRecord::Base\n",
      "  # name      (string)\n",
      "  # surname   (string)\n",
      "  # born      (datetime) \n",
      "  # died      (datetime)\n",
      "  # image_url (string)\n",
      "\n",
      "  has_many :books\n",
      "end\n",
      "\n",
      "class Book < ActiveRecord::Base\n",
      "  # title     (string)\n",
      "  # author    (Author)\n",
      "  # published (integer)\n",
      "\n",
      "  belongs_to :author\n",
      "end"
     ],
     "language": "python",
     "metadata": {},
     "outputs": []
    },
    {
     "cell_type": "heading",
     "level": 3,
     "metadata": {},
     "source": [
      "Zadanie 5"
     ]
    },
    {
     "cell_type": "markdown",
     "metadata": {},
     "source": [
      "Wy\u015bwietl wszystkie ksi\u0105\u017cki, kt\u00f3re nie maj\u0105 przypisanego roku wydania."
     ]
    },
    {
     "cell_type": "code",
     "collapsed": false,
     "input": [
      "Book.where('published is null').each do |book|\n",
      "  if book.published == nil\n",
      "    puts \"#{book.title} brak roku wydania\"\n",
      "  else\n",
      "    puts \"#{book.title} #{book.published}\"\n",
      "  end\n",
      "end"
     ],
     "language": "python",
     "metadata": {},
     "outputs": [
      {
       "output_type": "stream",
       "stream": "stdout",
       "text": [
        "V\u00e9gj\u00e1t\u00e9k (reg\u00e9ny) brak roku wydania\n"
       ]
      },
      {
       "output_type": "stream",
       "stream": "stdout",
       "text": [
        "Hamlet brak roku wydania\n"
       ]
      },
      {
       "metadata": {},
       "output_type": "pyout",
       "prompt_number": 34,
       "text": [
        "[#<Book id: 1, title: \"V\u00e9gj\u00e1t\u00e9k (reg\u00e9ny)\", language: nil, author_id: 10, published: nil, image_url: nil>, #<Book id: 10, title: \"Hamlet\", language: nil, author_id: 19, published: nil, image_url: \"http://commons.wikimedia.org/wiki/Special:FilePath...\">]"
       ]
      }
     ],
     "prompt_number": 34
    },
    {
     "cell_type": "heading",
     "level": 3,
     "metadata": {},
     "source": [
      "Zadanie 6"
     ]
    },
    {
     "cell_type": "markdown",
     "metadata": {},
     "source": [
      "Zmodyfikuj funkcj\u0119 `display_author` tak, aby wy\u015bwietla\u0142a r\u00f3wnie\u017c wszystkie ksi\u0105\u017cki napisane przez autora. U\u017cyj znacznika `<ul>`.\n",
      "Korzystaj\u0105c z tej funkcji wy\u015bwietl opis Stanis\u0142awa Lema."
     ]
    },
    {
     "cell_type": "code",
     "collapsed": false,
     "input": [
      "def display_author(author)\n",
      "  author = Author.where(surname: author).first\n",
      "  str = \"\"\n",
      "  str << \"<h1>#{author.name} #{author.surname}</h1><img src='#{author.image_url}'/><ul>\"\n",
      "  author.books.each do |book|\n",
      "   str << \"<li>#{book.title}</li>\"\n",
      "  end\n",
      "  str << \"</ul>\"\n",
      "  str\n",
      "end\n",
      "\n",
      "document = display_author(\"Lem\")\n",
      "\n",
      "IRuby.html document"
     ],
     "language": "python",
     "metadata": {},
     "outputs": [
      {
       "html": [
        "<h1>Stanis\u0142aw Lem</h1><img src='http://commons.wikimedia.org/wiki/Special:FilePath/Stanislaw_Lem_2.jpg?width=300'/><ul><li>Bajki robot\u00f3w</li><li>Solaris (powie\u015b\u0107)</li><li>Bezsenno\u015b\u0107 (zbi\u00f3r opowiada\u0144)</li><li>G\u0142os Pana</li><li>Inwazja z Aldebarana (zbi\u00f3r opowiada\u0144)</li><li>Katar (powie\u015b\u0107)</li><li>Ksi\u0119ga robot\u00f3w</li><li>Maska (zbi\u00f3r dzie\u0142)</li><li>Niezwyci\u0119\u017cony i inne opowiadania</li><li>Noc ksi\u0119\u017cycowa</li><li>Pami\u0119tnik znaleziony w wannie</li><li>Polowanie (zbi\u00f3r opowiada\u0144)</li><li>Powt\u00f3rka (zbi\u00f3r dzie\u0142)</li><li>Po\u017cytek ze smoka</li><li>Rasa drapie\u017cc\u00f3w. Teksty ostatnie</li><li>Sezam i inne opowiadania</li><li>Summa technologiae</li><li>Wizja lokalna (powie\u015b\u0107)</li></ul>"
       ],
       "metadata": {},
       "output_type": "pyout",
       "prompt_number": 28,
       "text": [
        "\"<h1>Stanis\u0142aw Lem</h1><img src='http://commons.wikimedia.org/wiki/Special:FilePath/Stanislaw_Lem_2.jpg?width=300'/><ul><li>Bajki robot\u00f3w</li><li>Solaris (powie\u015b\u0107)</li><li>Bezsenno\u015b\u0107 (zbi\u00f3r opowiada\u0144)</li><li>G\u0142os Pana</li><li>Inwazja z Aldebarana (zbi\u00f3r opowiada\u0144)</li><li>Katar (powie\u015b\u0107)</li><li>Ksi\u0119ga robot\u00f3w</li><li>Maska (zbi\u00f3r dzie\u0142)</li><li>Niezwyci\u0119\u017cony i inne opowiadania</li><li>Noc ksi\u0119\u017cycowa</li><li>Pami\u0119tnik znaleziony w wannie</li><li>Polowanie (zbi\u00f3r opowiada\u0144)</li><li>Powt\u00f3rka (zbi\u00f3r dzie\u0142)</li><li>Po\u017cytek ze smoka</li><li>Rasa drapie\u017cc\u00f3w. Teksty ostatnie</li><li>Sezam i inne opowiadania</li><li>Summa technologiae</li><li>Wizja lokalna (powie\u015b\u0107)</li></ul>\""
       ]
      }
     ],
     "prompt_number": 28
    },
    {
     "cell_type": "heading",
     "level": 3,
     "metadata": {},
     "source": [
      "Zadanie 7"
     ]
    },
    {
     "cell_type": "markdown",
     "metadata": {},
     "source": [
      "W\u015br\u00f3d ksi\u0105\u017cek napisanych przez Lema wy\u015bwietl wszystkie, kt\u00f3re zawieraja w tytule s\u0142owo \"zbi\u00f3r\"."
     ]
    },
    {
     "cell_type": "code",
     "collapsed": false,
     "input": [
      "author = Author.where(surname: \"Lem\").first\n",
      "books = author.books.where('title LIKE \"%zbi\u00f3r%\"')\n",
      "books.each do |book|\n",
      "  puts book.title\n",
      "end"
     ],
     "language": "python",
     "metadata": {},
     "outputs": [
      {
       "output_type": "stream",
       "stream": "stdout",
       "text": [
        "Bezsenno\u015b\u0107 (zbi\u00f3r opowiada\u0144)\n"
       ]
      },
      {
       "output_type": "stream",
       "stream": "stdout",
       "text": [
        "Inwazja z Aldebarana (zbi\u00f3r opowiada\u0144)\n"
       ]
      },
      {
       "output_type": "stream",
       "stream": "stdout",
       "text": [
        "Maska (zbi\u00f3r dzie\u0142)\n"
       ]
      },
      {
       "output_type": "stream",
       "stream": "stdout",
       "text": [
        "Polowanie (zbi\u00f3r opowiada\u0144)\n"
       ]
      },
      {
       "output_type": "stream",
       "stream": "stdout",
       "text": [
        "Powt\u00f3rka (zbi\u00f3r dzie\u0142)\n"
       ]
      },
      {
       "metadata": {},
       "output_type": "pyout",
       "prompt_number": 13,
       "text": [
        "[#<Book id: 35, title: \"Bezsenno\u015b\u0107 (zbi\u00f3r opowiada\u0144)\", language: nil, author_id: 14, published: 1971, image_url: nil>, #<Book id: 48, title: \"Inwazja z Aldebarana (zbi\u00f3r opowiada\u0144)\", language: nil, author_id: 14, published: 1959, image_url: nil>, #<Book id: 62, title: \"Maska (zbi\u00f3r dzie\u0142)\", language: nil, author_id: 14, published: 1976, image_url: nil>, #<Book id: 69, title: \"Polowanie (zbi\u00f3r opowiada\u0144)\", language: nil, author_id: 14, published: 1965, image_url: nil>, #<Book id: 70, title: \"Powt\u00f3rka (zbi\u00f3r dzie\u0142)\", language: nil, author_id: 14, published: 1979, image_url: nil>]"
       ]
      }
     ],
     "prompt_number": 13
    },
    {
     "cell_type": "heading",
     "level": 3,
     "metadata": {},
     "source": [
      "Zadanie 8"
     ]
    },
    {
     "cell_type": "markdown",
     "metadata": {},
     "source": [
      "W\u015br\u00f3d ksi\u0105\u017cek napisanych przez Lema wy\u015bwietl te, kt\u00f3re zosta\u0142y wydane w roku jego \u015bmierci."
     ]
    },
    {
     "cell_type": "code",
     "collapsed": false,
     "input": [
      "author = Author.where(surname: \"Lem\").first\n",
      "death = author.died\n",
      "books = author.books.where(published: \"#{death}\")\n",
      "books.each do |book|\n",
      "  puts \"#{book.author.surname} #{book.title} #{book.published}\"\n",
      "end"
     ],
     "language": "python",
     "metadata": {},
     "outputs": [
      {
       "output_type": "stream",
       "stream": "stdout",
       "text": [
        "Lem Rasa drapie\u017cc\u00f3w. Teksty ostatnie 2006\n"
       ]
      },
      {
       "metadata": {},
       "output_type": "pyout",
       "prompt_number": 25,
       "text": [
        "[#<Book id: 74, title: \"Rasa drapie\u017cc\u00f3w. Teksty ostatnie\", language: nil, author_id: 14, published: 2006, image_url: nil>]"
       ]
      }
     ],
     "prompt_number": 25
    },
    {
     "cell_type": "code",
     "collapsed": false,
     "input": [],
     "language": "python",
     "metadata": {},
     "outputs": [],
     "prompt_number": 21
    },
    {
     "cell_type": "heading",
     "level": 3,
     "metadata": {},
     "source": [
      "Zadanie 9"
     ]
    },
    {
     "cell_type": "markdown",
     "metadata": {},
     "source": [
      "Wy\u015bwietl wszystkie ksi\u0105\u017cki znajduj\u0105ce si\u0119 w bazie. Opis powinien zawiera\u0107 tytu\u0142, imi\u0119 i nazwisko autora, rok wydania oraz \n",
      "obraz przedstawiaj\u0105cy ksi\u0105\u017ck\u0119 (o ile istnieje)."
     ]
    },
    {
     "cell_type": "code",
     "collapsed": false,
     "input": [
      "def display_book2(book)\n",
      "  author_surname = \n",
      "    if book.author\n",
      "      book.author.surname\n",
      "    else\n",
      "      \"brak autora\"\n",
      "    end\n",
      "  \"<h1><i>\\\"#{book.title}\\\"</i> #{author_surname}</h1> - #{book.published}<img src='#{book.image_url}'/>\"\n",
      "end\n",
      "books = Book.where(\"image_url is not null\").where(\"published is not null\").all\n",
      "puts books.size\n",
      "str = \"\"\n",
      "books.each do |book|\n",
      "  str << display_book2(book)\n",
      "end\n",
      "IRuby.html str"
     ],
     "language": "python",
     "metadata": {},
     "outputs": [
      {
       "output_type": "stream",
       "stream": "stdout",
       "text": [
        "26\n"
       ]
      },
      {
       "html": [
        "<h1><i>\"Folwark zwierz\u0119cy\"</i> Orwell</h1> - 1945<img src='http://commons.wikimedia.org/wiki/Special:FilePath/Animalism_flag.svg?width=300'/><h1><i>\"Harry Potter\"</i> Rowling</h1> - 1997<img src='http://commons.wikimedia.org/wiki/Special:FilePath/Harry_Potter_wordmark.svg?width=300'/><h1><i>\"Hrabia Monte Christo\"</i> (ojciec)</h1> - 1844<img src='http://commons.wikimedia.org/wiki/Special:FilePath/Louis_Fran\u00e7ais-Dant\u00e8s_sur_son_rocher.jpg?width=300'/><h1><i>\"Krzy\u017cacy (powie\u015b\u0107)\"</i> Sienkiewicz</h1> - 1900<img src='http://commons.wikimedia.org/wiki/Special:FilePath/PL_Henryk_Sienkiewicz-Krzy\u017cacy_0005.jpeg?width=300'/><h1><i>\"Mein Kampf\"</i> Hitler</h1> - 1925<img src='http://commons.wikimedia.org/wiki/Special:FilePath/Landsberg.Jail.jpg?width=300'/><h1><i>\"Nad Niemnem\"</i> Orzeszkowa</h1> - 1888<img src='http://commons.wikimedia.org/wiki/Special:FilePath/Nad_Niemnem_-_manuscript.jpg?width=300'/><h1><i>\"Nowe Ateny\"</i> Chmielowski</h1> - 1745<img src='http://commons.wikimedia.org/wiki/Special:FilePath/Nowe_ateny1.jpg?width=300'/><h1><i>\"Ogniem i mieczem\"</i> Sienkiewicz</h1> - 1884<img src='http://commons.wikimedia.org/wiki/Special:FilePath/Podbipieta.JPG?width=300'/><h1><i>\"Ojciec Goriot\"</i> Balzac</h1> - 1835<img src='http://commons.wikimedia.org/wiki/Special:FilePath/Father_Goriot_by_H._Daumier_(1842).JPG?width=300'/><h1><i>\"Proces (powie\u015b\u0107)\"</i> Kafka</h1> - 1925<img src='http://commons.wikimedia.org/wiki/Special:FilePath/Kafka_Der_Prozess_1925.jpg?width=300'/><h1><i>\"Psa\u0142terz Dawid\u00f3w\"</i> brak autora</h1> - 1579<img src='http://commons.wikimedia.org/wiki/Special:FilePath/Kochanowski_-_Psa\u0142terz_Dawid\u00f3w_(1579).jpg?width=300'/><h1><i>\"Quo vadis\"</i> Sienkiewicz</h1> - 1896<img src='http://commons.wikimedia.org/wiki/Special:FilePath/Rzym_popiersie_Sienkiewicza_w_kosciele_Domine_Quo_Vadis.JPG?width=300'/><h1><i>\"Romeo i Julia\"</i> Szekspir</h1> - 1597<img src='http://commons.wikimedia.org/wiki/Special:FilePath/Romeo_and_juliet_brown.jpg?width=300'/><h1><i>\"Silmarillion\"</i> Tolkien</h1> - 1977<img src='http://commons.wikimedia.org/wiki/Special:FilePath/Silmarrillion,_Just_under_the_Cover.jpg?width=300'/><h1><i>\"Solaris (powie\u015b\u0107)\"</i> Lem</h1> - 1961<img src='http://commons.wikimedia.org/wiki/Special:FilePath/Solaris,_various_editions_02.jpg?width=300'/><h1><i>\"W\u0142adca Pier\u015bcieni\"</i> Tolkien</h1> - 1954<img src='http://commons.wikimedia.org/wiki/Special:FilePath/Unico_Anello.png?width=300'/><h1><i>\"Anna Karenina\"</i> To\u0142stoj</h1> - 1877<img src='http://commons.wikimedia.org/wiki/Special:FilePath/AnnaKareninaTitle.jpg?width=300'/><h1><i>\"Dives in misericordia\"</i> II</h1> - 1980<img src='http://commons.wikimedia.org/wiki/Special:FilePath/John_paul_2_coa.svg?width=300'/><h1><i>\"Dwana\u015bcie krzese\u0142\"</i> Ilf</h1> - 1928<img src='http://commons.wikimedia.org/wiki/Special:FilePath/Ostap_Bender_Monument_in_Kharkiv.jpg?width=300'/><h1><i>\"Ksi\u0119gi narodu polskiego i pielgrzymstwa polskiego\"</i> Mickiewicz</h1> - 1832<img src='http://commons.wikimedia.org/wiki/Special:FilePath/PL_Ksi\u0119gi_narodu_polskiego_i_pielgrzymstwa_polskiego_008.png?width=300'/><h1><i>\"Ojcowie i dzieci\"</i> Turgieniew</h1> - 0<img src='http://commons.wikimedia.org/wiki/Special:FilePath/Otsy1880.jpg?width=300'/><h1><i>\"Sen nocy letniej\"</i> Szekspir</h1> - 1600<img src='http://commons.wikimedia.org/wiki/Special:FilePath/MND_title_page.jpg?width=300'/><h1><i>\"Slavorum apostoli\"</i> II</h1> - 1985<img src='http://commons.wikimedia.org/wiki/Special:FilePath/John_paul_2_coa.svg?width=300'/><h1><i>\"Ut unum sint\"</i> II</h1> - 1995<img src='http://commons.wikimedia.org/wiki/Special:FilePath/John_paul_2_coa.svg?width=300'/><h1><i>\"Veritatis splendor\"</i> II</h1> - 1993<img src='http://commons.wikimedia.org/wiki/Special:FilePath/John_paul_2_coa.svg?width=300'/><h1><i>\"Wojna i pok\u00f3j\"</i> To\u0142stoj</h1> - 1865<img src='http://commons.wikimedia.org/wiki/Special:FilePath/War-and-peace_1873.gif?width=300'/>"
       ],
       "metadata": {},
       "output_type": "pyout",
       "prompt_number": 35,
       "text": [
        "\"<h1><i>\\\"Folwark zwierz\u0119cy\\\"</i> Orwell</h1> - 1945<img src='http://commons.wikimedia.org/wiki/Special:FilePath/Animalism_flag.svg?width=300'/><h1><i>\\\"Harry Potter\\\"</i> Rowling</h1> - 1997<img src='http://commons.wikimedia.org/wiki/Special:FilePath/Harry_Potter_wordmark.svg?width=300'/><h1><i>\\\"Hrabia Monte Christo\\\"</i> (ojciec)</h1> - 1844<img src='http://commons.wikimedia.org/wiki/Special:FilePath/Louis_Fran\u00e7ais-Dant\u00e8s_sur_son_rocher.jpg?width=300'/><h1><i>\\\"Krzy\u017cacy (powie\u015b\u0107)\\\"</i> Sienkiewicz</h1> - 1900<img src='http://commons.wikimedia.org/wiki/Special:FilePath/PL_Henryk_Sienkiewicz-Krzy\u017cacy_0005.jpeg?width=300'/><h1><i>\\\"Mein Kampf\\\"</i> Hitler</h1> - 1925<img src='http://commons.wikimedia.org/wiki/Special:FilePath/Landsberg.Jail.jpg?width=300'/><h1><i>\\\"Nad Niemnem\\\"</i> Orzeszkowa</h1> - 1888<img src='http://commons.wikimedia.org/wiki/Special:FilePath/Nad_Niemnem_-_manuscript.jpg?width=300'/><h1><i>\\\"Nowe Ateny\\\"</i> Chmielowski</h1> - 1745<img src='http://commons.wikimedia.org/wiki/Special:FilePath/Nowe_ateny1.jpg?width=300'/><h1><i>\\\"Ogniem i mieczem\\\"</i> Sienkiewicz</h1> - 1884<img src='http://commons.wikimedia.org/wiki/Special:FilePath/Podbipieta.JPG?width=300'/><h1><i>\\\"Ojciec Goriot\\\"</i> Balzac</h1> - 1835<img src='http://commons.wikimedia.org/wiki/Special:FilePath/Father_Goriot_by_H._Daumier_(1842).JPG?width=300'/><h1><i>\\\"Proces (powie\u015b\u0107)\\\"</i> Kafka</h1> - 1925<img src='http://commons.wikimedia.org/wiki/Special:FilePath/Kafka_Der_Prozess_1925.jpg?width=300'/><h1><i>\\\"Psa\u0142terz Dawid\u00f3w\\\"</i> brak autora</h1> - 1579<img src='http://commons.wikimedia.org/wiki/Special:FilePath/Kochanowski_-_Psa\u0142terz_Dawid\u00f3w_(1579).jpg?width=300'/><h1><i>\\\"Quo vadis\\\"</i> Sienkiewicz</h1> - 1896<img src='http://commons.wikimedia.org/wiki/Special:FilePath/Rzym_popiersie_Sienkiewicza_w_kosciele_Domine_Quo_Vadis.JPG?width=300'/><h1><i>\\\"Romeo i Julia\\\"</i> Szekspir</h1> - 1597<img src='http://commons.wikimedia.org/wiki/Special:FilePath/Romeo_and_juliet_brown.jpg?width=300'/><h1><i>\\\"Silmarillion\\\"</i> Tolkien</h1> - 1977<img src='http://commons.wikimedia.org/wiki/Special:FilePath/Silmarrillion,_Just_under_the_Cover.jpg?width=300'/><h1><i>\\\"Solaris (powie\u015b\u0107)\\\"</i> Lem</h1> - 1961<img src='http://commons.wikimedia.org/wiki/Special:FilePath/Solaris,_various_editions_02.jpg?width=300'/><h1><i>\\\"W\u0142adca Pier\u015bcieni\\\"</i> Tolkien</h1> - 1954<img src='http://commons.wikimedia.org/wiki/Special:FilePath/Unico_Anello.png?width=300'/><h1><i>\\\"Anna Karenina\\\"</i> To\u0142stoj</h1> - 1877<img src='http://commons.wikimedia.org/wiki/Special:FilePath/AnnaKareninaTitle.jpg?width=300'/><h1><i>\\\"Dives in misericordia\\\"</i> II</h1> - 1980<img src='http://commons.wikimedia.org/wiki/Special:FilePath/John_paul_2_coa.svg?width=300'/><h1><i>\\\"Dwana\u015bcie krzese\u0142\\\"</i> Ilf</h1> - 1928<img src='http://commons.wikimedia.org/wiki/Special:FilePath/Ostap_Bender_Monument_in_Kharkiv.jpg?width=300'/><h1><i>\\\"Ksi\u0119gi narodu polskiego i pielgrzymstwa polskiego\\\"</i> Mickiewicz</h1> - 1832<img src='http://commons.wikimedia.org/wiki/Special:FilePath/PL_Ksi\u0119gi_narodu_polskiego_i_pielgrzymstwa_polskiego_008.png?width=300'/><h1><i>\\\"Ojcowie i dzieci\\\"</i> Turgieniew</h1> - 0<img src='http://commons.wikimedia.org/wiki/Special:FilePath/Otsy1880.jpg?width=300'/><h1><i>\\\"Sen nocy letniej\\\"</i> Szekspir</h1> - 1600<img src='http://commons.wikimedia.org/wiki/Special:FilePath/MND_title_page.jpg?width=300'/><h1><i>\\\"Slavorum apostoli\\\"</i> II</h1> - 1985<img src='http://commons.wikimedia.org/wiki/Special:FilePath/John_paul_2_coa.svg?width=300'/><h1><i>\\\"Ut unum sint\\\"</i> II</h1> - 1995<img src='http://commons.wikimedia.org/wiki/Special:FilePath/John_paul_2_coa.svg?width=300'/><h1><i>\\\"Veritatis splendor\\\"</i> II</h1> - 1993<img src='http://commons.wikimedia.org/wiki/Special:FilePath/John_paul_2_coa.svg?width=300'/><h1><i>\\\"Wojna i pok\u00f3j\\\"</i> To\u0142stoj</h1> - 1865<img src='http://commons.wikimedia.org/wiki/Special:FilePath/War-and-peace_1873.gif?width=300'/>\""
       ]
      }
     ],
     "prompt_number": 35
    },
    {
     "cell_type": "heading",
     "level": 3,
     "metadata": {},
     "source": [
      "Zadanie 10"
     ]
    },
    {
     "cell_type": "markdown",
     "metadata": {},
     "source": [
      "Wy\u015bwietl wszystkich autor\u00f3w znajduj\u0105cych si\u0119 w bazie wraz z opisem zawieraj\u0105cym ich zdj\u0119cie, dat\u0119 urodzin i \u015bmierci oraz spis \n",
      "opublikowanych ksi\u0105\u017cek. Pami\u0119taj o odpowiednim sformatowaniu dat oraz o tym, \u017ce nie wszyscy autorzy maj\u0105 przypisane wszystkie\n",
      "informacje."
     ]
    },
    {
     "cell_type": "code",
     "collapsed": false,
     "input": [
      "def display_author10(author)\n",
      "\n",
      "  author_born = \n",
      "    if author.born\n",
      "      author.born.strftime('%d-%m-%Y')\n",
      "    else\n",
      "      \"brak daty narodzin\"\n",
      "    end\n",
      "  \n",
      "  author_died = \n",
      "    if author.died\n",
      "      author.died.strftime('%d-%m-%Y')\n",
      "    else\n",
      "      \"brak daty \u015bmierci\"\n",
      "    end\n",
      "  \n",
      "  str = \"\"\n",
      "  str << \"<h1><i>\\\"#{author.name}\\\"</i> #{author.surname}</h1> #{author_born} do #{author_died}<img src='#{author.image_url}'/><ul>\"\n",
      "  author.books.each do |book|\n",
      "     str << \"<li>#{book.title}</li>\"\n",
      "  end\n",
      "  str << \"</ul>\"\n",
      "end\n",
      "\n",
      "\n",
      "authors = Author.all\n",
      "str = \"\"\n",
      "authors.each do |author|\n",
      "  str << display_author10(author)\n",
      "end\n",
      "IRuby.html str"
     ],
     "language": "python",
     "metadata": {},
     "outputs": [
      {
       "html": [
        "<h1><i>\"Juliusz\"</i> S\u0142owacki</h1> 04-09-1809 do 03-04-1849<img src=''/><ul></ul><h1><i>\"Henryk\"</i> Sienkiewicz</h1> 05-05-1846 do 15-11-1916<img src=''/><ul><li>Krzy\u017cacy (powie\u015b\u0107)</li><li>Ogniem i mieczem</li><li>Quo vadis</li></ul><h1><i>\"Eliza\"</i> Orzeszkowa</h1> 06-06-1841 do 18-05-1910<img src=''/><ul><li>Nad Niemnem</li></ul><h1><i>\"Adam\"</i> Mickiewicz</h1> 24-12-1798 do 26-11-1855<img src=''/><ul><li>Ksi\u0119gi narodu polskiego i pielgrzymstwa polskiego</li></ul><h1><i>\"Orson Scott\"</i> Card</h1> 24-08-1951 do brak daty \u015bmierci<img src='http://commons.wikimedia.org/wiki/Special:FilePath/Orson_Scott_Card_at_BYU_Symposium_20080216_closeup.jpg?width=300'/><ul><li>V\u00e9gj\u00e1t\u00e9k (reg\u00e9ny)</li></ul><h1><i>\"Andrzej\"</i> Sapkowski</h1> 21-06-1948 do brak daty \u015bmierci<img src='http://commons.wikimedia.org/wiki/Special:FilePath/Sapkowski.jpg?width=300'/><ul><li>Pani Jeziora (powie\u015b\u0107)</li></ul><h1><i>\"Jack\"</i> London</h1> 12-01-1876 do 22-11-1916<img src='http://commons.wikimedia.org/wiki/Special:FilePath/JackLondon02.jpeg?width=300'/><ul><li>Bellew Zawierucha</li></ul><h1><i>\"Henning\"</i> Mankell</h1> 03-02-1948 do brak daty \u015bmierci<img src='http://commons.wikimedia.org/wiki/Special:FilePath/Henning_Mankell_3_2011_Shankbone.jpg?width=300'/><ul><li>Fa\u0142szywy trop (powie\u015b\u0107)</li></ul><h1><i>\"Stanis\u0142aw\"</i> Lem</h1> 12-09-1921 do 27-03-2006<img src='http://commons.wikimedia.org/wiki/Special:FilePath/Stanislaw_Lem_2.jpg?width=300'/><ul><li>Bajki robot\u00f3w</li><li>Solaris (powie\u015b\u0107)</li><li>Bezsenno\u015b\u0107 (zbi\u00f3r opowiada\u0144)</li><li>G\u0142os Pana</li><li>Inwazja z Aldebarana (zbi\u00f3r opowiada\u0144)</li><li>Katar (powie\u015b\u0107)</li><li>Ksi\u0119ga robot\u00f3w</li><li>Maska (zbi\u00f3r dzie\u0142)</li><li>Niezwyci\u0119\u017cony i inne opowiadania</li><li>Noc ksi\u0119\u017cycowa</li><li>Pami\u0119tnik znaleziony w wannie</li><li>Polowanie (zbi\u00f3r opowiada\u0144)</li><li>Powt\u00f3rka (zbi\u00f3r dzie\u0142)</li><li>Po\u017cytek ze smoka</li><li>Rasa drapie\u017cc\u00f3w. Teksty ostatnie</li><li>Sezam i inne opowiadania</li><li>Summa technologiae</li><li>Wizja lokalna (powie\u015b\u0107)</li></ul><h1><i>\"Antoni\"</i> Go\u0142ubiew</h1> 25-02-1907 do 27-06-1979<img src='http://commons.wikimedia.org/wiki/Special:FilePath/Antoni_Golubiew.jpg?width=300'/><ul><li>Boles\u0142aw Chrobry (powie\u015b\u0107)</li></ul><h1><i>\"Miko\u0142aj\"</i> Kopernik</h1> 19-02-1473 do 24-05-1543<img src='http://commons.wikimedia.org/wiki/Special:FilePath/Nikolaus_Kopernikus.jpg?width=300'/><ul><li>De revolutionibus orbium coelestium</li></ul><h1><i>\"Maria Franciszka\"</i> Koz\u0142owska</h1> 27-05-1862 do brak daty \u015bmierci<img src='http://commons.wikimedia.org/wiki/Special:FilePath/Mateczk_Koz\u0142owska.JPG?width=300'/><ul><li>Dzie\u0142o Wielkiego Mi\u0142osierdzia</li></ul><h1><i>\"George\"</i> Orwell</h1> 25-06-1903 do 21-01-1950<img src='http://commons.wikimedia.org/wiki/Special:FilePath/GeoreOrwell.jpg?width=300'/><ul><li>Folwark zwierz\u0119cy</li><li>Droga na molo w Wigan</li></ul><h1><i>\"William\"</i> Szekspir</h1> 23-04-1564 do 03-05-1616<img src='http://commons.wikimedia.org/wiki/Special:FilePath/Shakespeare.jpg?width=300'/><ul><li>Hamlet</li><li>Romeo i Julia</li><li>Sen nocy letniej</li></ul><h1><i>\"J. K.\"</i> Rowling</h1> 31-07-1965 do brak daty \u015bmierci<img src='http://commons.wikimedia.org/wiki/Special:FilePath/J._K._Rowling_2010.jpg?width=300'/><ul><li>Harry Potter</li></ul><h1><i>\"John Ronald Reuel\"</i> Tolkien</h1> 03-01-1892 do 02-09-1973<img src='http://commons.wikimedia.org/wiki/Special:FilePath/Tolkien_1916.jpg?width=300'/><ul><li>Hobbit, czyli tam i z powrotem</li><li>Silmarillion</li><li>W\u0142adca Pier\u015bcieni</li></ul><h1><i>\"Aleksander Dumas\"</i> (ojciec)</h1> 24-07-1802 do 05-12-1870<img src='http://commons.wikimedia.org/wiki/Special:FilePath/Dumas_by_Nadar,_1855.jpg?width=300'/><ul><li>Hrabia Monte Christo</li></ul><h1><i>\"Tadeusz\"</i> Do\u0142\u0119ga-Mostowicz</h1> 10-08-1898 do 20-09-1939<img src='http://commons.wikimedia.org/wiki/Special:FilePath/Tadeusz_Dolega-Mostowicz.jpg?width=300'/><ul><li>Kariera Nikodema Dyzmy</li></ul><h1><i>\"Vladimir\"</i> Nabokov</h1> 22-04-1899 do 02-07-1977<img src='http://commons.wikimedia.org/wiki/Special:FilePath/Monument_Nabokov_Montreux_23.12.2006.jpg?width=300'/><ul><li>Lolita</li></ul><h1><i>\"Adolf\"</i> Hitler</h1> 20-04-1889 do 30-04-1945<img src='http://commons.wikimedia.org/wiki/Special:FilePath/Hitler_portrait_crop.jpg?width=300'/><ul><li>Mein Kampf</li></ul><h1><i>\"Christopher\"</i> Tolkien</h1> 21-11-1924 do brak daty \u015bmierci<img src=''/><ul><li>Niedoko\u0144czone opowie\u015bci</li></ul><h1><i>\"Benedykt\"</i> Chmielowski</h1> 20-03-1700 do 07-04-1763<img src='http://commons.wikimedia.org/wiki/Special:FilePath/POL_COA_Na\u0142\u0119cz.svg?width=300'/><ul><li>Nowe Ateny</li></ul><h1><i>\"Aldous\"</i> Huxley</h1> 26-07-1894 do 22-11-1963<img src='http://commons.wikimedia.org/wiki/Special:FilePath/Aldous_Huxley.JPG?width=300'/><ul><li>Nowy wspania\u0142y \u015bwiat</li></ul><h1><i>\"Honor\u00e9 de\"</i> Balzac</h1> 20-05-1799 do 18-08-1850<img src='http://commons.wikimedia.org/wiki/Special:FilePath/HBalzac.jpg?width=300'/><ul><li>Ojciec Goriot</li></ul><h1><i>\"Franz\"</i> Kafka</h1> 03-07-1883 do 03-06-1924<img src='http://commons.wikimedia.org/wiki/Special:FilePath/Kafka1906.jpg?width=300'/><ul><li>Proces (powie\u015b\u0107)</li></ul><h1><i>\"Howard Phillips\"</i> Lovecraft</h1> 20-08-1890 do 15-03-1937<img src='http://commons.wikimedia.org/wiki/Special:FilePath/Howard_Phillips_Lovecraft_in_1915.jpg?width=300'/><ul><li>Zew Cthulhu (opowiadanie)</li></ul><h1><i>\"Karol Olgierd\"</i> Borchardt</h1> 25-03-1905 do 20-05-1986<img src='http://commons.wikimedia.org/wiki/Special:FilePath/Karol_Olgierd_Borchardt's_house_in_Gdynia.jpg?width=300'/><ul><li>Znaczy Kapitan</li></ul><h1><i>\"Lew\"</i> To\u0142stoj</h1> 09-09-1828 do 20-11-1910<img src='http://commons.wikimedia.org/wiki/Special:FilePath/Ilya_Efimovich_Repin_(1844-1930)_-_Portrait_of_Leo_Tolstoy_(1887).jpg?width=300'/><ul><li>Anna Karenina</li><li>Wojna i pok\u00f3j</li></ul><h1><i>\"Boris\"</i> Akunin</h1> 20-05-1956 do brak daty \u015bmierci<img src='http://commons.wikimedia.org/wiki/Special:FilePath/Boris_Akunin_2012.jpg?width=300'/><ul><li>Azazel (powie\u015b\u0107)</li><li>Dekorator</li><li>Diamentowa karoca</li><li>Gambit turecki</li><li>Kochanek \u015amierci</li><li>Kochanka \u015amierci</li><li>Koronacja (powie\u015b\u0107)</li><li>Lewiatan (powie\u015b\u0107)</li><li>Radca stanu (powie\u015b\u0107)</li><li>Walet pikowy (powie\u015b\u0107)</li><li>\u015amier\u0107 Achillesa</li></ul><h1><i>\"Janusz\"</i> Zajdel</h1> 15-08-1938 do 19-07-1985<img src='http://commons.wikimedia.org/wiki/Special:FilePath/Janusz_A_Zajdel.jpg?width=300'/><ul><li>Ca\u0142a prawda o planecie Ksi</li></ul><h1><i>\"Jan Pawe\u0142\"</i> II</h1> 18-05-1920 do 02-04-2005<img src='http://commons.wikimedia.org/wiki/Special:FilePath/John_Paul_II_Medal_of_Freedom_2004.jpg?width=300'/><ul><li>Dives in misericordia</li><li>Slavorum apostoli</li><li>Ut unum sint</li><li>Veritatis splendor</li></ul><h1><i>\"Isaac\"</i> Asimov</h1> 04-10-1919 do 06-04-1992<img src='http://commons.wikimedia.org/wiki/Special:FilePath/Isaac.Asimov01.jpg?width=300'/><ul><li>Druga Fundacja</li><li>Fundacja (powie\u015b\u0107)</li><li>Fundacja i Imperium</li><li>Preludium Fundacji</li></ul><h1><i>\"Ilja\"</i> Ilf</h1> 15-10-1897 do 13-04-1937<img src='http://commons.wikimedia.org/wiki/Special:FilePath/Ilya_Ilf.jpg?width=300'/><ul><li>Dwana\u015bcie krzese\u0142</li></ul><h1><i>\"Jewgienij Pietrow\"</i> (pisarz)</h1> 13-12-1903 do 02-07-1942<img src='http://commons.wikimedia.org/wiki/Special:FilePath/Yevgeny_Petrov.jpg?width=300'/><ul></ul><h1><i>\"Gabriela\"</i> Zapolska</h1> 30-03-1857 do 17-12-1921<img src='http://commons.wikimedia.org/wiki/Special:FilePath/Gabriela_Zapolska.PNG?width=300'/><ul><li>Ich czworo</li></ul><h1><i>\"Jeffery\"</i> Deaver</h1> 06-05-1950 do brak daty \u015bmierci<img src='http://commons.wikimedia.org/wiki/Special:FilePath/Jeffery_Deaver_October_2006.jpg?width=300'/><ul><li>Kamienna ma\u0142pa</li><li>Mag (powie\u015b\u0107 J. Deavera)</li></ul><h1><i>\"Terry\"</i> Pratchett</h1> 28-04-1948 do brak daty \u015bmierci<img src='http://commons.wikimedia.org/wiki/Special:FilePath/Terry_Pratchett,_September_2009_1.jpg?width=300'/><ul><li>Kot w stanie czystym</li></ul><h1><i>\"Clive Staples\"</i> Lewis</h1> 29-11-1898 do 22-11-1963<img src='http://commons.wikimedia.org/wiki/Special:FilePath/Statue_of_C.S._Lewis,_Belfast.jpg?width=300'/><ul><li>Ko\u0144 i jego ch\u0142opiec</li></ul><h1><i>\"Andrzej\"</i> Pilipiuk</h1> 20-03-1974 do brak daty \u015bmierci<img src='http://commons.wikimedia.org/wiki/Special:FilePath/Andrzej_Pilipiuk-Polcon2006.jpg?width=300'/><ul><li>Kuzynki</li></ul><h1><i>\"Ursula K. Le\"</i> Guin</h1> 21-10-1929 do brak daty \u015bmierci<img src='http://commons.wikimedia.org/wiki/Special:FilePath/UrsulaLeGuin.01.jpg?width=300'/><ul><li>Lewa r\u0119ka ciemno\u015bci</li><li>Czarnoksi\u0119\u017cnik z Archipelagu</li></ul><h1><i>\"Iwan\"</i> Turgieniew</h1> 09-11-1818 do 03-09-1883<img src='http://commons.wikimedia.org/wiki/Special:FilePath/Turgenev_by_Repin.jpg?width=300'/><ul><li>Ojcowie i dzieci</li></ul><h1><i>\"George R. R.\"</i> Martin</h1> 20-09-1948 do brak daty \u015bmierci<img src='http://commons.wikimedia.org/wiki/Special:FilePath/George_R_R_Martin_2011_Shankbone.JPG?width=300'/><ul><li>Pie\u015b\u0144 Lodu i Ognia</li></ul><h1><i>\"Ryszard\"</i> Kapu\u015bci\u0144ski</h1> 04-03-1932 do 23-01-2007<img src='http://commons.wikimedia.org/wiki/Special:FilePath/Ryszard_Kapuscinski_by_Kubik_17.05.1997_-_cropped.jpg?width=300'/><ul><li>Podr\u00f3\u017ce z Herodotem</li></ul><h1><i>\"Lucy Maud\"</i> Montgomery</h1> 30-11-1874 do 24-04-1942<img src='http://commons.wikimedia.org/wiki/Special:FilePath/Lucy_Maud_Montgomery.JPG?width=300'/><ul><li>Rilla ze Z\u0142otego Brzegu</li></ul><h1><i>\"Dorota\"</i> Terakowska</h1> 30-08-1938 do 04-01-2004<img src='http://commons.wikimedia.org/wiki/Special:FilePath/Dorota_Terakowska_grob.jpg?width=300'/><ul><li>Tam gdzie spadaj\u0105 anio\u0142y</li></ul><h1><i>\"Alfred\"</i> Szklarski</h1> 21-01-1912 do 09-04-1992<img src='http://commons.wikimedia.org/wiki/Special:FilePath/Katowice_-_pomnik_Alfred_Szklarski.JPG?width=300'/><ul><li>Tomek u \u017ar\u00f3de\u0142 Amazonki</li><li>Tomek w Gran Chaco</li><li>Tomek w grobowcach faraon\u00f3w</li></ul><h1><i>\"Adam\"</i> Zelga</h1> 11-03-1953 do brak daty \u015bmierci<img src=''/><ul></ul><h1><i>\"Rafa\u0142 A.\"</i> Ziemkiewicz</h1> 13-09-1964 do brak daty \u015bmierci<img src='http://commons.wikimedia.org/wiki/Special:FilePath/Rafa\u0142_Ziemkiewicz.jpg?width=300'/><ul><li>Walc stulecia</li></ul><h1><i>\"Anne\"</i> Rice</h1> 04-10-1941 do brak daty \u015bmierci<img src='http://commons.wikimedia.org/wiki/Special:FilePath/Anne_Rice.jpg?width=300'/><ul><li>Wampir Lestat</li></ul><h1><i>\"Aleksander\"</i> Majkowski</h1> 17-07-1876 do 10-02-1938<img src='http://commons.wikimedia.org/wiki/Special:FilePath/POL_Polonia_Restituta_Oficerski_BAR.svg?width=300'/><ul><li>\u017bycie i przygody Remusa</li></ul><h1><i>\"Ian\"</i> Fleming</h1> 28-05-1908 do 12-08-1964<img src='http://commons.wikimedia.org/wiki/Special:FilePath/For_Your_Eyes_Only.jpg?width=300'/><ul><li>Casino Royale (powie\u015b\u0107)</li></ul><h1><i>\"Gene\"</i> Wolfe</h1> 07-05-1931 do brak daty \u015bmierci<img src='http://commons.wikimedia.org/wiki/Special:FilePath/Gene_Wolfe,_2005.png?width=300'/><ul><li>Cie\u0144 kata</li></ul><h1><i>\"Paulo\"</i> Coelho</h1> 24-08-1947 do brak daty \u015bmierci<img src='http://commons.wikimedia.org/wiki/Special:FilePath/Paulo_Coelho_nrkbeta.jpg?width=300'/><ul><li>Czarownica z Portobello</li></ul><h1><i>\"Tom\"</i> Clancy</h1> 12-04-1947 do 01-10-2013<img src='http://commons.wikimedia.org/wiki/Special:FilePath/Tom_Clancy_at_Burns_Library_cropped.jpg?width=300'/><ul><li>Czas patriot\u00f3w (powie\u015b\u0107)</li></ul><h1><i>\"Jan\"</i> Kochanowski</h1> brak daty narodzin do 22-08-1584<img src='http://commons.wikimedia.org/wiki/Special:FilePath/Jan_Kochanowski.png?width=300'/><ul></ul>"
       ],
       "metadata": {},
       "output_type": "pyout",
       "prompt_number": 52,
       "text": [
        "\"<h1><i>\\\"Juliusz\\\"</i> S\u0142owacki</h1> 04-09-1809 do 03-04-1849<img src=''/><ul></ul><h1><i>\\\"Henryk\\\"</i> Sienkiewicz</h1> 05-05-1846 do 15-11-1916<img src=''/><ul><li>Krzy\u017cacy (powie\u015b\u0107)</li><li>Ogniem i mieczem</li><li>Quo vadis</li></ul><h1><i>\\\"Eliza\\\"</i> Orzeszkowa</h1> 06-06-1841 do 18-05-1910<img src=''/><ul><li>Nad Niemnem</li></ul><h1><i>\\\"Adam\\\"</i> Mickiewicz</h1> 24-12-1798 do 26-11-1855<img src=''/><ul><li>Ksi\u0119gi narodu polskiego i pielgrzymstwa polskiego</li></ul><h1><i>\\\"Orson Scott\\\"</i> Card</h1> 24-08-1951 do brak daty \u015bmierci<img src='http://commons.wikimedia.org/wiki/Special:FilePath/Orson_Scott_Card_at_BYU_Symposium_20080216_closeup.jpg?width=300'/><ul><li>V\u00e9gj\u00e1t\u00e9k (reg\u00e9ny)</li></ul><h1><i>\\\"Andrzej\\\"</i> Sapkowski</h1> 21-06-1948 do brak daty \u015bmierci<img src='http://commons.wikimedia.org/wiki/Special:FilePath/Sapkowski.jpg?width=300'/><ul><li>Pani Jeziora (powie\u015b\u0107)</li></ul><h1><i>\\\"Jack\\\"</i> London</h1> 12-01-1876 do 22-11-1916<img src='http://commons.wikimedia.org/wiki/Special:FilePath/JackLondon02.jpeg?width=300'/><ul><li>Bellew Zawierucha</li></ul><h1><i>\\\"Henning\\\"</i> Mankell</h1> 03-02-1948 do brak daty \u015bmierci<img src='http://commons.wikimedia.org/wiki/Special:FilePath/Henning_Mankell_3_2011_Shankbone.jpg?width=300'/><ul><li>Fa\u0142szywy trop (powie\u015b\u0107)</li></ul><h1><i>\\\"Stanis\u0142aw\\\"</i> Lem</h1> 12-09-1921 do 27-03-2006<img src='http://commons.wikimedia.org/wiki/Special:FilePath/Stanislaw_Lem_2.jpg?width=300'/><ul><li>Bajki robot\u00f3w</li><li>Solaris (powie\u015b\u0107)</li><li>Bezsenno\u015b\u0107 (zbi\u00f3r opowiada\u0144)</li><li>G\u0142os Pana</li><li>Inwazja z Aldebarana (zbi\u00f3r opowiada\u0144)</li><li>Katar (powie\u015b\u0107)</li><li>Ksi\u0119ga robot\u00f3w</li><li>Maska (zbi\u00f3r dzie\u0142)</li><li>Niezwyci\u0119\u017cony i inne opowiadania</li><li>Noc ksi\u0119\u017cycowa</li><li>Pami\u0119tnik znaleziony w wannie</li><li>Polowanie (zbi\u00f3r opowiada\u0144)</li><li>Powt\u00f3rka (zbi\u00f3r dzie\u0142)</li><li>Po\u017cytek ze smoka</li><li>Rasa drapie\u017cc\u00f3w. Teksty ostatnie</li><li>Sezam i inne opowiadania</li><li>Summa technologiae</li><li>Wizja lokalna (powie\u015b\u0107)</li></ul><h1><i>\\\"Antoni\\\"</i> Go\u0142ubiew</h1> 25-02-1907 do 27-06-1979<img src='http://commons.wikimedia.org/wiki/Special:FilePath/Antoni_Golubiew.jpg?width=300'/><ul><li>Boles\u0142aw Chrobry (powie\u015b\u0107)</li></ul><h1><i>\\\"Miko\u0142aj\\\"</i> Kopernik</h1> 19-02-1473 do 24-05-1543<img src='http://commons.wikimedia.org/wiki/Special:FilePath/Nikolaus_Kopernikus.jpg?width=300'/><ul><li>De revolutionibus orbium coelestium</li></ul><h1><i>\\\"Maria Franciszka\\\"</i> Koz\u0142owska</h1> 27-05-1862 do brak daty \u015bmierci<img src='http://commons.wikimedia.org/wiki/Special:FilePath/Mateczk_Koz\u0142owska.JPG?width=300'/><ul><li>Dzie\u0142o Wielkiego Mi\u0142osierdzia</li></ul><h1><i>\\\"George\\\"</i> Orwell</h1> 25-06-1903 do 21-01-1950<img src='http://commons.wikimedia.org/wiki/Special:FilePath/GeoreOrwell.jpg?width=300'/><ul><li>Folwark zwierz\u0119cy</li><li>Droga na molo w Wigan</li></ul><h1><i>\\\"William\\\"</i> Szekspir</h1> 23-04-1564 do 03-05-1616<img src='http://commons.wikimedia.org/wiki/Special:FilePath/Shakespeare.jpg?width=300'/><ul><li>Hamlet</li><li>Romeo i Julia</li><li>Sen nocy letniej</li></ul><h1><i>\\\"J. K.\\\"</i> Rowling</h1> 31-07-1965 do brak daty \u015bmierci<img src='http://commons.wikimedia.org/wiki/Special:FilePath/J._K._Rowling_2010.jpg?width=300'/><ul><li>Harry Potter</li></ul><h1><i>\\\"John Ronald Reuel\\\"</i> Tolkien</h1> 03-01-1892 do 02-09-1973<img src='http://commons.wikimedia.org/wiki/Special:FilePath/Tolkien_1916.jpg?width=300'/><ul><li>Hobbit, czyli tam i z powrotem</li><li>Silmarillion</li><li>W\u0142adca Pier\u015bcieni</li></ul><h1><i>\\\"Aleksander Dumas\\\"</i> (ojciec)</h1> 24-07-1802 do 05-12-1870<img src='http://commons.wikimedia.org/wiki/Special:FilePath/Dumas_by_Nadar,_1855.jpg?width=300'/><ul><li>Hrabia Monte Christo</li></ul><h1><i>\\\"Tadeusz\\\"</i> Do\u0142\u0119ga-Mostowicz</h1> 10-08-1898 do 20-09-1939<img src='http://commons.wikimedia.org/wiki/Special:FilePath/Tadeusz_Dolega-Mostowicz.jpg?width=300'/><ul><li>Kariera Nikodema Dyzmy</li></ul><h1><i>\\\"Vladimir\\\"</i> Nabokov</h1> 22-04-1899 do 02-07-1977<img src='http://commons.wikimedia.org/wiki/Special:FilePath/Monument_Nabokov_Montreux_23.12.2006.jpg?width=300'/><ul><li>Lolita</li></ul><h1><i>\\\"Adolf\\\"</i> Hitler</h1> 20-04-1889 do 30-04-1945<img src='http://commons.wikimedia.org/wiki/Special:FilePath/Hitler_portrait_crop.jpg?width=300'/><ul><li>Mein Kampf</li></ul><h1><i>\\\"Christopher\\\"</i> Tolkien</h1> 21-11-1924 do brak daty \u015bmierci<img src=''/><ul><li>Niedoko\u0144czone opowie\u015bci</li></ul><h1><i>\\\"Benedykt\\\"</i> Chmielowski</h1> 20-03-1700 do 07-04-1763<img src='http://commons.wikimedia.org/wiki/Special:FilePath/POL_COA_Na\u0142\u0119cz.svg?width=300'/><ul><li>Nowe Ateny</li></ul><h1><i>\\\"Aldous\\\"</i> Huxley</h1> 26-07-1894 do 22-11-1963<img src='http://commons.wikimedia.org/wiki/Special:FilePath/Aldous_Huxley.JPG?width=300'/><ul><li>Nowy wspania\u0142y \u015bwiat</li></ul><h1><i>\\\"Honor\u00e9 de\\\"</i> Balzac</h1> 20-05-1799 do 18-08-1850<img src='http://commons.wikimedia.org/wiki/Special:FilePath/HBalzac.jpg?width=300'/><ul><li>Ojciec Goriot</li></ul><h1><i>\\\"Franz\\\"</i> Kafka</h1> 03-07-1883 do 03-06-1924<img src='http://commons.wikimedia.org/wiki/Special:FilePath/Kafka1906.jpg?width=300'/><ul><li>Proces (powie\u015b\u0107)</li></ul><h1><i>\\\"Howard Phillips\\\"</i> Lovecraft</h1> 20-08-1890 do 15-03-1937<img src='http://commons.wikimedia.org/wiki/Special:FilePath/Howard_Phillips_Lovecraft_in_1915.jpg?width=300'/><ul><li>Zew Cthulhu (opowiadanie)</li></ul><h1><i>\\\"Karol Olgierd\\\"</i> Borchardt</h1> 25-03-1905 do 20-05-1986<img src='http://commons.wikimedia.org/wiki/Special:FilePath/Karol_Olgierd_Borchardt's_house_in_Gdynia.jpg?width=300'/><ul><li>Znaczy Kapitan</li></ul><h1><i>\\\"Lew\\\"</i> To\u0142stoj</h1> 09-09-1828 do 20-11-1910<img src='http://commons.wikimedia.org/wiki/Special:FilePath/Ilya_Efimovich_Repin_(1844-1930)_-_Portrait_of_Leo_Tolstoy_(1887).jpg?width=300'/><ul><li>Anna Karenina</li><li>Wojna i pok\u00f3j</li></ul><h1><i>\\\"Boris\\\"</i> Akunin</h1> 20-05-1956 do brak daty \u015bmierci<img src='http://commons.wikimedia.org/wiki/Special:FilePath/Boris_Akunin_2012.jpg?width=300'/><ul><li>Azazel (powie\u015b\u0107)</li><li>Dekorator</li><li>Diamentowa karoca</li><li>Gambit turecki</li><li>Kochanek \u015amierci</li><li>Kochanka \u015amierci</li><li>Koronacja (powie\u015b\u0107)</li><li>Lewiatan (powie\u015b\u0107)</li><li>Radca stanu (powie\u015b\u0107)</li><li>Walet pikowy (powie\u015b\u0107)</li><li>\u015amier\u0107 Achillesa</li></ul><h1><i>\\\"Janusz\\\"</i> Zajdel</h1> 15-08-1938 do 19-07-1985<img src='http://commons.wikimedia.org/wiki/Special:FilePath/Janusz_A_Zajdel.jpg?width=300'/><ul><li>Ca\u0142a prawda o planecie Ksi</li></ul><h1><i>\\\"Jan Pawe\u0142\\\"</i> II</h1> 18-05-1920 do 02-04-2005<img src='http://commons.wikimedia.org/wiki/Special:FilePath/John_Paul_II_Medal_of_Freedom_2004.jpg?width=300'/><ul><li>Dives in misericordia</li><li>Slavorum apostoli</li><li>Ut unum sint</li><li>Veritatis splendor</li></ul><h1><i>\\\"Isaac\\\"</i> Asimov</h1> 04-10-1919 do 06-04-1992<img src='http://commons.wikimedia.org/wiki/Special:FilePath/Isaac.Asimov01.jpg?width=300'/><ul><li>Druga Fundacja</li><li>Fundacja (powie\u015b\u0107)</li><li>Fundacja i Imperium</li><li>Preludium Fundacji</li></ul><h1><i>\\\"Ilja\\\"</i> Ilf</h1> 15-10-1897 do 13-04-1937<img src='http://commons.wikimedia.org/wiki/Special:FilePath/Ilya_Ilf.jpg?width=300'/><ul><li>Dwana\u015bcie krzese\u0142</li></ul><h1><i>\\\"Jewgienij Pietrow\\\"</i> (pisarz)</h1> 13-12-1903 do 02-07-1942<img src='http://commons.wikimedia.org/wiki/Special:FilePath/Yevgeny_Petrov.jpg?width=300'/><ul></ul><h1><i>\\\"Gabriela\\\"</i> Zapolska</h1> 30-03-1857 do 17-12-1921<img src='http://commons.wikimedia.org/wiki/Special:FilePath/Gabriela_Zapolska.PNG?width=300'/><ul><li>Ich czworo</li></ul><h1><i>\\\"Jeffery\\\"</i> Deaver</h1> 06-05-1950 do brak daty \u015bmierci<img src='http://commons.wikimedia.org/wiki/Special:FilePath/Jeffery_Deaver_October_2006.jpg?width=300'/><ul><li>Kamienna ma\u0142pa</li><li>Mag (powie\u015b\u0107 J. Deavera)</li></ul><h1><i>\\\"Terry\\\"</i> Pratchett</h1> 28-04-1948 do brak daty \u015bmierci<img src='http://commons.wikimedia.org/wiki/Special:FilePath/Terry_Pratchett,_September_2009_1.jpg?width=300'/><ul><li>Kot w stanie czystym</li></ul><h1><i>\\\"Clive Staples\\\"</i> Lewis</h1> 29-11-1898 do 22-11-1963<img src='http://commons.wikimedia.org/wiki/Special:FilePath/Statue_of_C.S._Lewis,_Belfast.jpg?width=300'/><ul><li>Ko\u0144 i jego ch\u0142opiec</li></ul><h1><i>\\\"Andrzej\\\"</i> Pilipiuk</h1> 20-03-1974 do brak daty \u015bmierci<img src='http://commons.wikimedia.org/wiki/Special:FilePath/Andrzej_Pilipiuk-Polcon2006.jpg?width=300'/><ul><li>Kuzynki</li></ul><h1><i>\\\"Ursula K. Le\\\"</i> Guin</h1> 21-10-1929 do brak daty \u015bmierci<img src='http://commons.wikimedia.org/wiki/Special:FilePath/UrsulaLeGuin.01.jpg?width=300'/><ul><li>Lewa r\u0119ka ciemno\u015bci</li><li>Czarnoksi\u0119\u017cnik z Archipelagu</li></ul><h1><i>\\\"Iwan\\\"</i> Turgieniew</h1> 09-11-1818 do 03-09-1883<img src='http://commons.wikimedia.org/wiki/Special:FilePath/Turgenev_by_Repin.jpg?width=300'/><ul><li>Ojcowie i dzieci</li></ul><h1><i>\\\"George R. R.\\\"</i> Martin</h1> 20-09-1948 do brak daty \u015bmierci<img src='http://commons.wikimedia.org/wiki/Special:FilePath/George_R_R_Martin_2011_Shankbone.JPG?width=300'/><ul><li>Pie\u015b\u0144 Lodu i Ognia</li></ul><h1><i>\\\"Ryszard\\\"</i> Kapu\u015bci\u0144ski</h1> 04-03-1932 do 23-01-2007<img src='http://commons.wikimedia.org/wiki/Special:FilePath/Ryszard_Kapuscinski_by_Kubik_17.05.1997_-_cropped.jpg?width=300'/><ul><li>Podr\u00f3\u017ce z Herodotem</li></ul><h1><i>\\\"Lucy Maud\\\"</i> Montgomery</h1> 30-11-1874 do 24-04-1942<img src='http://commons.wikimedia.org/wiki/Special:FilePath/Lucy_Maud_Montgomery.JPG?width=300'/><ul><li>Rilla ze Z\u0142otego Brzegu</li></ul><h1><i>\\\"Dorota\\\"</i> Terakowska</h1> 30-08-1938 do 04-01-2004<img src='http://commons.wikimedia.org/wiki/Special:FilePath/Dorota_Terakowska_grob.jpg?width=300'/><ul><li>Tam gdzie spadaj\u0105 anio\u0142y</li></ul><h1><i>\\\"Alfred\\\"</i> Szklarski</h1> 21-01-1912 do 09-04-1992<img src='http://commons.wikimedia.org/wiki/Special:FilePath/Katowice_-_pomnik_Alfred_Szklarski.JPG?width=300'/><ul><li>Tomek u \u017ar\u00f3de\u0142 Amazonki</li><li>Tomek w Gran Chaco</li><li>Tomek w grobowcach faraon\u00f3w</li></ul><h1><i>\\\"Adam\\\"</i> Zelga</h1> 11-03-1953 do brak daty \u015bmierci<img src=''/><ul></ul><h1><i>\\\"Rafa\u0142 A.\\\"</i> Ziemkiewicz</h1> 13-09-1964 do brak daty \u015bmierci<img src='http://commons.wikimedia.org/wiki/Special:FilePath/Rafa\u0142_Ziemkiewicz.jpg?width=300'/><ul><li>Walc stulecia</li></ul><h1><i>\\\"Anne\\\"</i> Rice</h1> 04-10-1941 do brak daty \u015bmierci<img src='http://commons.wikimedia.org/wiki/Special:FilePath/Anne_Rice.jpg?width=300'/><ul><li>Wampir Lestat</li></ul><h1><i>\\\"Aleksander\\\"</i> Majkowski</h1> 17-07-1876 do 10-02-1938<img src='http://commons.wikimedia.org/wiki/Special:FilePath/POL_Polonia_Restituta_Oficerski_BAR.svg?width=300'/><ul><li>\u017bycie i przygody Remusa</li></ul><h1><i>\\\"Ian\\\"</i> Fleming</h1> 28-05-1908 do 12-08-1964<img src='http://commons.wikimedia.org/wiki/Special:FilePath/For_Your_Eyes_Only.jpg?width=300'/><ul><li>Casino Royale (powie\u015b\u0107)</li></ul><h1><i>\\\"Gene\\\"</i> Wolfe</h1> 07-05-1931 do brak daty \u015bmierci<img src='http://commons.wikimedia.org/wiki/Special:FilePath/Gene_Wolfe,_2005.png?width=300'/><ul><li>Cie\u0144 kata</li></ul><h1><i>\\\"Paulo\\\"</i> Coelho</h1> 24-08-1947 do brak daty \u015bmierci<img src='http://commons.wikimedia.org/wiki/Special:FilePath/Paulo_Coelho_nrkbeta.jpg?width=300'/><ul><li>Czarownica z Portobello</li></ul><h1><i>\\\"Tom\\\"</i> Clancy</h1> 12-04-1947 do 01-10-2013<img src='http://commons.wikimedia.org/wiki/Special:FilePath/Tom_Clancy_at_Burns_Library_cropped.jpg?width=300'/><ul><li>Czas patriot\u00f3w (powie\u015b\u0107)</li></ul><h1><i>\\\"Jan\\\"</i> Kochanowski</h1> brak daty narodzin do 22-08-1584<img src='http://commons.wikimedia.org/wiki/Special:FilePath/Jan_Kochanowski.png?width=300'/><ul></ul>\""
       ]
      }
     ],
     "prompt_number": 52
    },
    {
     "cell_type": "code",
     "collapsed": false,
     "input": [],
     "language": "python",
     "metadata": {},
     "outputs": []
    }
   ],
   "metadata": {}
  }
 ]
}